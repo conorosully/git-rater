{
 "cells": [
  {
   "cell_type": "markdown",
   "metadata": {},
   "source": [
    "# Decision Tree\n",
    "Build a decison tree to predict the quality of github profiles"
   ]
  },
  {
   "cell_type": "code",
   "execution_count": 1,
   "metadata": {},
   "outputs": [
    {
     "name": "stderr",
     "output_type": "stream",
     "text": [
      "/Users/conorosully/miniconda3/lib/python3.6/site-packages/sklearn/ensemble/weight_boosting.py:29: DeprecationWarning: numpy.core.umath_tests is an internal NumPy module and should not be imported. It will be removed in a future NumPy release.\n",
      "  from numpy.core.umath_tests import inner1d\n"
     ]
    }
   ],
   "source": [
    "#imports\n",
    "import numpy as np\n",
    "import pandas as pd\n",
    "\n",
    "\n",
    "import matplotlib.pyplot as plt\n",
    "%matplotlib inline\n",
    "\n",
    "import seaborn as sns\n",
    "\n",
    "from sklearn.model_selection import train_test_split\n",
    "from sklearn.metrics import classification_report,confusion_matrix,accuracy_score\n",
    "\n",
    "\n",
    "from sklearn.tree import DecisionTreeClassifier\n",
    "from sklearn.ensemble import RandomForestClassifier"
   ]
  },
  {
   "cell_type": "code",
   "execution_count": 2,
   "metadata": {},
   "outputs": [
    {
     "name": "stdout",
     "output_type": "stream",
     "text": [
      "230\n"
     ]
    },
    {
     "data": {
      "text/html": [
       "<div>\n",
       "<style scoped>\n",
       "    .dataframe tbody tr th:only-of-type {\n",
       "        vertical-align: middle;\n",
       "    }\n",
       "\n",
       "    .dataframe tbody tr th {\n",
       "        vertical-align: top;\n",
       "    }\n",
       "\n",
       "    .dataframe thead th {\n",
       "        text-align: right;\n",
       "    }\n",
       "</style>\n",
       "<table border=\"1\" class=\"dataframe\">\n",
       "  <thead>\n",
       "    <tr style=\"text-align: right;\">\n",
       "      <th></th>\n",
       "      <th>repos</th>\n",
       "      <th>stars</th>\n",
       "      <th>followers</th>\n",
       "      <th>following</th>\n",
       "      <th>foll_ratio</th>\n",
       "      <th>lang</th>\n",
       "      <th>n_lang</th>\n",
       "      <th>org_flag</th>\n",
       "      <th>n_cont</th>\n",
       "      <th>last_cont</th>\n",
       "      <th>stab_cont</th>\n",
       "      <th>cont_repo_ratio</th>\n",
       "      <th>r1</th>\n",
       "      <th>r2</th>\n",
       "      <th>y</th>\n",
       "    </tr>\n",
       "  </thead>\n",
       "  <tbody>\n",
       "    <tr>\n",
       "      <th>0</th>\n",
       "      <td>71</td>\n",
       "      <td>306</td>\n",
       "      <td>106</td>\n",
       "      <td>9</td>\n",
       "      <td>11.78</td>\n",
       "      <td>{'Rust', 'Ruby', 'Shell', 'JavaScript', 'HTML'...</td>\n",
       "      <td>10</td>\n",
       "      <td>1</td>\n",
       "      <td>437</td>\n",
       "      <td>0</td>\n",
       "      <td>0.25</td>\n",
       "      <td>6</td>\n",
       "      <td>3.5</td>\n",
       "      <td>4.5</td>\n",
       "      <td>4.0</td>\n",
       "    </tr>\n",
       "    <tr>\n",
       "      <th>1</th>\n",
       "      <td>0</td>\n",
       "      <td>0</td>\n",
       "      <td>0</td>\n",
       "      <td>1</td>\n",
       "      <td>0.00</td>\n",
       "      <td>set()</td>\n",
       "      <td>0</td>\n",
       "      <td>0</td>\n",
       "      <td>1</td>\n",
       "      <td>159</td>\n",
       "      <td>0.00</td>\n",
       "      <td>0</td>\n",
       "      <td>0.0</td>\n",
       "      <td>0.0</td>\n",
       "      <td>0.0</td>\n",
       "    </tr>\n",
       "    <tr>\n",
       "      <th>2</th>\n",
       "      <td>12</td>\n",
       "      <td>1</td>\n",
       "      <td>182</td>\n",
       "      <td>0</td>\n",
       "      <td>0.00</td>\n",
       "      <td>{'Ruby', 'Shell', 'JavaScript', 'PHP', 'CSS'}</td>\n",
       "      <td>5</td>\n",
       "      <td>0</td>\n",
       "      <td>433</td>\n",
       "      <td>3</td>\n",
       "      <td>0.23</td>\n",
       "      <td>36</td>\n",
       "      <td>4.0</td>\n",
       "      <td>3.0</td>\n",
       "      <td>4.0</td>\n",
       "    </tr>\n",
       "    <tr>\n",
       "      <th>3</th>\n",
       "      <td>13</td>\n",
       "      <td>31</td>\n",
       "      <td>0</td>\n",
       "      <td>17</td>\n",
       "      <td>0.00</td>\n",
       "      <td>{'JavaScript', 'HTML', 'PHP'}</td>\n",
       "      <td>3</td>\n",
       "      <td>0</td>\n",
       "      <td>20</td>\n",
       "      <td>0</td>\n",
       "      <td>0.50</td>\n",
       "      <td>2</td>\n",
       "      <td>2.0</td>\n",
       "      <td>2.0</td>\n",
       "      <td>2.0</td>\n",
       "    </tr>\n",
       "    <tr>\n",
       "      <th>4</th>\n",
       "      <td>99</td>\n",
       "      <td>344</td>\n",
       "      <td>370</td>\n",
       "      <td>16</td>\n",
       "      <td>23.12</td>\n",
       "      <td>{'Jupyter Notebook', 'Shell', 'JavaScript', 'H...</td>\n",
       "      <td>10</td>\n",
       "      <td>0</td>\n",
       "      <td>255</td>\n",
       "      <td>6</td>\n",
       "      <td>0.02</td>\n",
       "      <td>3</td>\n",
       "      <td>5.0</td>\n",
       "      <td>3.0</td>\n",
       "      <td>4.0</td>\n",
       "    </tr>\n",
       "  </tbody>\n",
       "</table>\n",
       "</div>"
      ],
      "text/plain": [
       "   repos  stars  followers  following  foll_ratio  \\\n",
       "0     71    306        106          9       11.78   \n",
       "1      0      0          0          1        0.00   \n",
       "2     12      1        182          0        0.00   \n",
       "3     13     31          0         17        0.00   \n",
       "4     99    344        370         16       23.12   \n",
       "\n",
       "                                                lang  n_lang  org_flag  \\\n",
       "0  {'Rust', 'Ruby', 'Shell', 'JavaScript', 'HTML'...      10         1   \n",
       "1                                              set()       0         0   \n",
       "2      {'Ruby', 'Shell', 'JavaScript', 'PHP', 'CSS'}       5         0   \n",
       "3                      {'JavaScript', 'HTML', 'PHP'}       3         0   \n",
       "4  {'Jupyter Notebook', 'Shell', 'JavaScript', 'H...      10         0   \n",
       "\n",
       "   n_cont  last_cont  stab_cont  cont_repo_ratio   r1   r2    y  \n",
       "0     437          0       0.25                6  3.5  4.5  4.0  \n",
       "1       1        159       0.00                0  0.0  0.0  0.0  \n",
       "2     433          3       0.23               36  4.0  3.0  4.0  \n",
       "3      20          0       0.50                2  2.0  2.0  2.0  \n",
       "4     255          6       0.02                3  5.0  3.0  4.0  "
      ]
     },
     "execution_count": 2,
     "metadata": {},
     "output_type": "execute_result"
    }
   ],
   "source": [
    "#Read dataset\n",
    "data = pd.read_csv('../data/gitrater.csv',index_col=0)\n",
    "print(len(data))\n",
    "data.head()"
   ]
  },
  {
   "cell_type": "code",
   "execution_count": 44,
   "metadata": {},
   "outputs": [],
   "source": [
    "features = ['repos','stars','followers','following','foll_ratio','n_lang','org_flag','n_cont','last_cont','stab_cont','cont_repo_ratio']"
   ]
  },
  {
   "cell_type": "code",
   "execution_count": 45,
   "metadata": {},
   "outputs": [],
   "source": [
    "X = data[features]\n",
    "y = data['y']"
   ]
  },
  {
   "cell_type": "code",
   "execution_count": 4,
   "metadata": {},
   "outputs": [],
   "source": [
    "X_train, X_test, y_train, y_test = train_test_split(X, y, test_size=30,random_state = 100)"
   ]
  },
  {
   "cell_type": "code",
   "execution_count": 31,
   "metadata": {},
   "outputs": [
    {
     "data": {
      "text/plain": [
       "RandomForestClassifier(bootstrap=True, class_weight=None, criterion='gini',\n",
       "            max_depth=None, max_features='auto', max_leaf_nodes=None,\n",
       "            min_impurity_decrease=0.0, min_impurity_split=None,\n",
       "            min_samples_leaf=1, min_samples_split=2,\n",
       "            min_weight_fraction_leaf=0.0, n_estimators=200, n_jobs=1,\n",
       "            oob_score=False, random_state=None, verbose=0,\n",
       "            warm_start=False)"
      ]
     },
     "execution_count": 31,
     "metadata": {},
     "output_type": "execute_result"
    }
   ],
   "source": [
    "# Fitting the model\n",
    "rfc = RandomForestClassifier(n_estimators=200)\n",
    "rfc.fit(X_train, y_train)"
   ]
  },
  {
   "cell_type": "code",
   "execution_count": 32,
   "metadata": {},
   "outputs": [
    {
     "name": "stdout",
     "output_type": "stream",
     "text": [
      "             precision    recall  f1-score   support\n",
      "\n",
      "        0.0       1.00      0.60      0.75         5\n",
      "        1.0       0.55      0.86      0.67         7\n",
      "        2.0       0.62      0.56      0.59         9\n",
      "        3.0       0.50      0.20      0.29         5\n",
      "        4.0       0.50      1.00      0.67         2\n",
      "        5.0       1.00      1.00      1.00         2\n",
      "\n",
      "avg / total       0.66      0.63      0.62        30\n",
      "\n"
     ]
    },
    {
     "data": {
      "image/png": "[encoded data removed]",
      "text/plain": [
       "<Figure size 720x720 with 1 Axes>"
      ]
     },
     "metadata": {},
     "output_type": "display_data"
    }
   ],
   "source": [
    "# Prediction and evaluation\n",
    "predictions = rfc.predict(X_test)\n",
    "print(classification_report(y_test,predictions))\n",
    "\n",
    "#Create confusion matrix\n",
    "lang = [0, 1, 2, 3, 4, 5]\n",
    "conf_matrix = confusion_matrix(y_test,predictions)\n",
    "conf_matrix_df = pd.DataFrame(conf_matrix,columns=lang,index=lang)\n",
    "\n",
    "#Plot confusion matrix heatmap\n",
    "plt.figure(figsize=(10, 10), facecolor='w', edgecolor='k')\n",
    "sns.set(font_scale=1.5)\n",
    "sns.heatmap(conf_matrix_df,cmap='coolwarm',annot=True,fmt='.5g',cbar=False)\n",
    "plt.xlabel('Predicted',fontsize=22)\n",
    "plt.ylabel('Actual',fontsize=22)\n",
    "\n",
    "plt.savefig('../figures/model_eval.png',format='png',dpi=150)"
   ]
  },
  {
   "cell_type": "code",
   "execution_count": 34,
   "metadata": {},
   "outputs": [],
   "source": [
    "importances = rfc.feature_importances_"
   ]
  },
  {
   "cell_type": "code",
   "execution_count": 70,
   "metadata": {},
   "outputs": [
    {
     "data": {
      "text/plain": [
       "'repos'"
      ]
     },
     "execution_count": 70,
     "metadata": {},
     "output_type": "execute_result"
    }
   ],
   "source": [
    "features[0]"
   ]
  },
  {
   "cell_type": "code",
   "execution_count": 73,
   "metadata": {},
   "outputs": [
    {
     "data": {
      "text/plain": [
       "['repos',\n",
       " 'stars',\n",
       " 'followers',\n",
       " 'following',\n",
       " 'foll_ratio',\n",
       " 'n_lang',\n",
       " 'org_flag',\n",
       " 'n_cont',\n",
       " 'last_cont',\n",
       " 'stab_cont',\n",
       " 'cont_repo_ratio']"
      ]
     },
     "execution_count": 73,
     "metadata": {},
     "output_type": "execute_result"
    }
   ],
   "source": [
    "features"
   ]
  },
  {
   "cell_type": "code",
   "execution_count": 74,
   "metadata": {},
   "outputs": [
    {
     "name": "stdout",
     "output_type": "stream",
     "text": [
      "[ 7 10  2  0  4  9  5  1  3  8  6]\n"
     ]
    },
    {
     "data": {
      "text/plain": [
       "['n_cont',\n",
       " 'cont_repo_ratio',\n",
       " 'followers',\n",
       " 'repos',\n",
       " 'foll_ratio',\n",
       " 'stab_cont',\n",
       " 'n_lang',\n",
       " 'stars',\n",
       " 'following',\n",
       " 'last_cont',\n",
       " 'org_flag']"
      ]
     },
     "execution_count": 74,
     "metadata": {},
     "output_type": "execute_result"
    }
   ],
   "source": [
    "indices = np.argsort(importances)[::-1]\n",
    "labels = [features[i] for i in indices]\n",
    "print(indices)\n",
    "labels"
   ]
  },
  {
   "cell_type": "code",
   "execution_count": 75,
   "metadata": {},
   "outputs": [
    {
     "name": "stdout",
     "output_type": "stream",
     "text": [
      "Feature ranking:\n",
      "1. feature 7 (0.223261)\n",
      "2. feature 10 (0.116557)\n",
      "3. feature 2 (0.116065)\n",
      "4. feature 0 (0.109794)\n",
      "5. feature 4 (0.076511)\n",
      "6. feature 9 (0.075490)\n",
      "7. feature 5 (0.073896)\n",
      "8. feature 1 (0.066893)\n",
      "9. feature 3 (0.063319)\n",
      "10. feature 8 (0.060542)\n",
      "11. feature 6 (0.017673)\n"
     ]
    }
   ],
   "source": [
    "print(\"Feature ranking:\")\n",
    "\n",
    "for f in range(X.shape[1]):\n",
    "    print(\"%d. feature %d (%f)\" % (f+1 , indices[f], importances[indices[f]]))"
   ]
  },
  {
   "cell_type": "code",
   "execution_count": 77,
   "metadata": {},
   "outputs": [
    {
     "data": {
      "image/png": "[encoded data removed]",
      "text/plain": [
       "<Figure size 720x360 with 1 Axes>"
      ]
     },
     "metadata": {},
     "output_type": "display_data"
    }
   ],
   "source": [
    "plt.figure(figsize=(10, 5), facecolor='w', edgecolor='k')\n",
    "plt.title(\"Feature importances\")\n",
    "plt.bar(range(X.shape[1]), importances[indices],\n",
    "        color=\"r\", align=\"center\")\n",
    "plt.xticks(ticks=range(X.shape[1]), labels=labels,rotation=90)\n",
    "\n",
    "plt.xlim([-1, X.shape[1]])\n",
    "plt.show()"
   ]
  },
  {
   "cell_type": "code",
   "execution_count": null,
   "metadata": {},
   "outputs": [],
   "source": []
  }
 ],
 "metadata": {
  "kernelspec": {
   "display_name": "Python 3",
   "language": "python",
   "name": "python3"
  },
  "language_info": {
   "codemirror_mode": {
    "name": "ipython",
    "version": 3
   },
   "file_extension": ".py",
   "mimetype": "text/x-python",
   "name": "python",
   "nbconvert_exporter": "python",
   "pygments_lexer": "ipython3",
   "version": "3.6.8"
  }
 },
 "nbformat": 4,
 "nbformat_minor": 2
}
