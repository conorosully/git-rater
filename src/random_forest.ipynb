{
 "cells": [
  {
   "cell_type": "markdown",
   "metadata": {},
   "source": [
    "# Random Forest\n",
    "Build a random forest to predict the quality of github profiles"
   ]
  },
  {
   "cell_type": "code",
   "execution_count": 1,
   "metadata": {},
   "outputs": [],
   "source": [
    "#imports\n",
    "import numpy as np\n",
    "import pandas as pd\n",
    "\n",
    "\n",
    "import matplotlib.pyplot as plt\n",
    "%matplotlib inline\n",
    "import seaborn as sns\n",
    "\n",
    "from sklearn.model_selection import train_test_split\n",
    "from sklearn.metrics import mean_squared_error\n",
    "\n",
    "from sklearn.ensemble import RandomForestRegressor\n",
    "\n",
    "path = '/Users/conorosully/Google Drive/Medium/GitRater/Figures/'"
   ]
  },
  {
   "cell_type": "code",
   "execution_count": 2,
   "metadata": {},
   "outputs": [
    {
     "name": "stdout",
     "output_type": "stream",
     "text": [
      "230\n"
     ]
    },
    {
     "data": {
      "text/html": [
       "<div>\n",
       "<style scoped>\n",
       "    .dataframe tbody tr th:only-of-type {\n",
       "        vertical-align: middle;\n",
       "    }\n",
       "\n",
       "    .dataframe tbody tr th {\n",
       "        vertical-align: top;\n",
       "    }\n",
       "\n",
       "    .dataframe thead th {\n",
       "        text-align: right;\n",
       "    }\n",
       "</style>\n",
       "<table border=\"1\" class=\"dataframe\">\n",
       "  <thead>\n",
       "    <tr style=\"text-align: right;\">\n",
       "      <th></th>\n",
       "      <th>repos</th>\n",
       "      <th>stars</th>\n",
       "      <th>followers</th>\n",
       "      <th>following</th>\n",
       "      <th>foll_ratio</th>\n",
       "      <th>lang</th>\n",
       "      <th>n_lang</th>\n",
       "      <th>org_flag</th>\n",
       "      <th>n_cont</th>\n",
       "      <th>last_cont</th>\n",
       "      <th>stab_cont</th>\n",
       "      <th>cont_repo_ratio</th>\n",
       "      <th>r1</th>\n",
       "      <th>r2</th>\n",
       "      <th>y</th>\n",
       "    </tr>\n",
       "  </thead>\n",
       "  <tbody>\n",
       "    <tr>\n",
       "      <th>0</th>\n",
       "      <td>71</td>\n",
       "      <td>306</td>\n",
       "      <td>106</td>\n",
       "      <td>9</td>\n",
       "      <td>11.78</td>\n",
       "      <td>['JavaScript', 'PHP', 'CSS', 'Ruby', 'Shell', ...</td>\n",
       "      <td>10</td>\n",
       "      <td>1</td>\n",
       "      <td>437</td>\n",
       "      <td>0</td>\n",
       "      <td>0.25</td>\n",
       "      <td>6.15</td>\n",
       "      <td>3.5</td>\n",
       "      <td>4.5</td>\n",
       "      <td>4.0</td>\n",
       "    </tr>\n",
       "    <tr>\n",
       "      <th>1</th>\n",
       "      <td>0</td>\n",
       "      <td>0</td>\n",
       "      <td>0</td>\n",
       "      <td>1</td>\n",
       "      <td>0.00</td>\n",
       "      <td>[]</td>\n",
       "      <td>0</td>\n",
       "      <td>0</td>\n",
       "      <td>1</td>\n",
       "      <td>159</td>\n",
       "      <td>0.00</td>\n",
       "      <td>0.00</td>\n",
       "      <td>0.0</td>\n",
       "      <td>0.0</td>\n",
       "      <td>0.0</td>\n",
       "    </tr>\n",
       "    <tr>\n",
       "      <th>2</th>\n",
       "      <td>12</td>\n",
       "      <td>1</td>\n",
       "      <td>182</td>\n",
       "      <td>0</td>\n",
       "      <td>-1.00</td>\n",
       "      <td>['JavaScript', 'PHP', 'CSS', 'Ruby', 'Shell']</td>\n",
       "      <td>5</td>\n",
       "      <td>0</td>\n",
       "      <td>433</td>\n",
       "      <td>3</td>\n",
       "      <td>0.23</td>\n",
       "      <td>36.08</td>\n",
       "      <td>4.0</td>\n",
       "      <td>3.0</td>\n",
       "      <td>3.5</td>\n",
       "    </tr>\n",
       "    <tr>\n",
       "      <th>3</th>\n",
       "      <td>13</td>\n",
       "      <td>31</td>\n",
       "      <td>0</td>\n",
       "      <td>17</td>\n",
       "      <td>0.00</td>\n",
       "      <td>['PHP', 'HTML', 'JavaScript']</td>\n",
       "      <td>3</td>\n",
       "      <td>0</td>\n",
       "      <td>20</td>\n",
       "      <td>0</td>\n",
       "      <td>0.50</td>\n",
       "      <td>1.54</td>\n",
       "      <td>2.0</td>\n",
       "      <td>2.0</td>\n",
       "      <td>2.0</td>\n",
       "    </tr>\n",
       "    <tr>\n",
       "      <th>4</th>\n",
       "      <td>99</td>\n",
       "      <td>344</td>\n",
       "      <td>370</td>\n",
       "      <td>16</td>\n",
       "      <td>23.12</td>\n",
       "      <td>['C', 'JavaScript', 'Go', 'CMake', 'Jupyter No...</td>\n",
       "      <td>10</td>\n",
       "      <td>0</td>\n",
       "      <td>255</td>\n",
       "      <td>6</td>\n",
       "      <td>0.02</td>\n",
       "      <td>2.58</td>\n",
       "      <td>5.0</td>\n",
       "      <td>3.0</td>\n",
       "      <td>4.0</td>\n",
       "    </tr>\n",
       "  </tbody>\n",
       "</table>\n",
       "</div>"
      ],
      "text/plain": [
       "   repos  stars  followers  following  foll_ratio  \\\n",
       "0     71    306        106          9       11.78   \n",
       "1      0      0          0          1        0.00   \n",
       "2     12      1        182          0       -1.00   \n",
       "3     13     31          0         17        0.00   \n",
       "4     99    344        370         16       23.12   \n",
       "\n",
       "                                                lang  n_lang  org_flag  \\\n",
       "0  ['JavaScript', 'PHP', 'CSS', 'Ruby', 'Shell', ...      10         1   \n",
       "1                                                 []       0         0   \n",
       "2      ['JavaScript', 'PHP', 'CSS', 'Ruby', 'Shell']       5         0   \n",
       "3                      ['PHP', 'HTML', 'JavaScript']       3         0   \n",
       "4  ['C', 'JavaScript', 'Go', 'CMake', 'Jupyter No...      10         0   \n",
       "\n",
       "   n_cont  last_cont  stab_cont  cont_repo_ratio   r1   r2    y  \n",
       "0     437          0       0.25             6.15  3.5  4.5  4.0  \n",
       "1       1        159       0.00             0.00  0.0  0.0  0.0  \n",
       "2     433          3       0.23            36.08  4.0  3.0  3.5  \n",
       "3      20          0       0.50             1.54  2.0  2.0  2.0  \n",
       "4     255          6       0.02             2.58  5.0  3.0  4.0  "
      ]
     },
     "execution_count": 2,
     "metadata": {},
     "output_type": "execute_result"
    }
   ],
   "source": [
    "#Read dataset\n",
    "data = pd.read_csv('../data/gitrater.csv',index_col=0)\n",
    "print(len(data))\n",
    "data.head()"
   ]
  },
  {
   "cell_type": "code",
   "execution_count": 10,
   "metadata": {},
   "outputs": [],
   "source": [
    "features = ['repos','stars','followers','following','foll_ratio','n_lang','org_flag','n_cont','last_cont','stab_cont','cont_repo_ratio']\n",
    "X = data[features]\n",
    "y = data['y']\n",
    "\n",
    "X_train, X_test, y_train, y_test = train_test_split(X, y, test_size=30,random_state = 100)\n",
    "\n",
    "# Fitting the model\n",
    "rf = RandomForestRegressor(max_depth = 4).fit(X_train,y_train)"
   ]
  },
  {
   "cell_type": "code",
   "execution_count": 11,
   "metadata": {},
   "outputs": [
    {
     "name": "stdout",
     "output_type": "stream",
     "text": [
      "0.2746301266331775\n"
     ]
    },
    {
     "data": {
      "image/png": "[encoded data removed]",
      "text/plain": [
       "<Figure size 720x720 with 1 Axes>"
      ]
     },
     "metadata": {},
     "output_type": "display_data"
    }
   ],
   "source": [
    "# Get predictions\n",
    "predictions = rf.predict(X_test)\n",
    "\n",
    "# Calculate MSE \n",
    "print(mean_squared_error(y_test,predictions))\n",
    "\n",
    "# Plot of actual vs predicted \n",
    "plt.figure(figsize=(10, 10), facecolor='w', edgecolor='k')\n",
    "plt.plot(predictions,y_test,'o')\n",
    "plt.plot([0, 5], [0, 5], 'r-', lw=2)\n",
    "plt.xlabel('Predicted',fontsize=22)\n",
    "plt.ylabel('Actual',fontsize=22)\n",
    "\n",
    "plt.tight_layout()\n",
    "plt.savefig(path + 'rf_fit.png',format='png',dpi=150)"
   ]
  },
  {
   "cell_type": "code",
   "execution_count": 12,
   "metadata": {},
   "outputs": [
    {
     "data": {
      "image/png": "[encoded data removed]",
      "text/plain": [
       "<Figure size 864x432 with 1 Axes>"
      ]
     },
     "metadata": {},
     "output_type": "display_data"
    }
   ],
   "source": [
    "# Feature Importance\n",
    "importances = rf.feature_importances_\n",
    "indices = np.argsort(importances)[::-1]\n",
    "labels = [features[i] for i in indices]\n",
    "\n",
    "plt.figure(figsize=(12, 6), facecolor='w', edgecolor='k')\n",
    "plt.bar(range(X.shape[1]), importances[indices], align=\"center\")\n",
    "plt.xticks(ticks=range(X.shape[1]), labels=labels,rotation=90)\n",
    "plt.xlim([-1, X.shape[1]])\n",
    "\n",
    "plt.tight_layout()\n",
    "plt.savefig(path + 'rf_importances.png',format='png',dpi=150)"
   ]
  }
 ],
 "metadata": {
  "kernelspec": {
   "display_name": "Python 3",
   "language": "python",
   "name": "python3"
  },
  "language_info": {
   "codemirror_mode": {
    "name": "ipython",
    "version": 3
   },
   "file_extension": ".py",
   "mimetype": "text/x-python",
   "name": "python",
   "nbconvert_exporter": "python",
   "pygments_lexer": "ipython3",
   "version": "3.6.8"
  }
 },
 "nbformat": 4,
 "nbformat_minor": 2
}
