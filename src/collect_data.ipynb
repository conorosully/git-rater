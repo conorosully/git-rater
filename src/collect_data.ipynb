{
 "cells": [
  {
   "cell_type": "markdown",
   "metadata": {},
   "source": [
    "# Collect Data\n",
    "Collect GitHub profile html data"
   ]
  },
  {
   "cell_type": "code",
   "execution_count": 14,
   "metadata": {},
   "outputs": [],
   "source": [
    "import numpy as np\n",
    "import pandas as pd\n",
    "import save as sv\n",
    "import capture as cp"
   ]
  },
  {
   "cell_type": "markdown",
   "metadata": {},
   "source": [
    "### Demo\n",
    "A demonstration on how to use the webscrapper"
   ]
  },
  {
   "cell_type": "code",
   "execution_count": 15,
   "metadata": {},
   "outputs": [
    {
     "data": {
      "text/plain": [
       "'https://github.com/conorosully'"
      ]
     },
     "execution_count": 15,
     "metadata": {},
     "output_type": "execute_result"
    }
   ],
   "source": [
    "username = \"conorosully\"\n",
    "url = \"https://github.com/\" +  username\n",
    "url"
   ]
  },
  {
   "cell_type": "code",
   "execution_count": 16,
   "metadata": {},
   "outputs": [],
   "source": [
    "#save user data\n",
    "sv.save_users(url, \"followers\")\n",
    "sv.save_users(url, \"following\")\n",
    "sv.save_users(url, \"following\")\n",
    "sv.save_other(url, \"repositories\")\n",
    "sv.save_other(url, \"projects\")\n",
    "sv.save_other(url, \"packages\")\n",
    "sv.save_other(url, \"stars\")\n",
    "sv.save_overview(url)"
   ]
  },
  {
   "cell_type": "code",
   "execution_count": 17,
   "metadata": {},
   "outputs": [
    {
     "ename": "TypeError",
     "evalue": "get_counts() takes 0 positional arguments but 1 was given",
     "output_type": "error",
     "traceback": [
      "\u001b[0;31m---------------------------------------------------------------------------\u001b[0m",
      "\u001b[0;31mTypeError\u001b[0m                                 Traceback (most recent call last)",
      "\u001b[0;32m<ipython-input-17-142460d5ceff>\u001b[0m in \u001b[0;36m<module>\u001b[0;34m\u001b[0m\n\u001b[1;32m      1\u001b[0m \u001b[0;31m#Collect user data\u001b[0m\u001b[0;34m\u001b[0m\u001b[0;34m\u001b[0m\u001b[0;34m\u001b[0m\u001b[0m\n\u001b[1;32m      2\u001b[0m \u001b[0mstruct\u001b[0m \u001b[0;34m=\u001b[0m \u001b[0;34m{\u001b[0m\u001b[0;34m}\u001b[0m\u001b[0;34m\u001b[0m\u001b[0;34m\u001b[0m\u001b[0m\n\u001b[0;32m----> 3\u001b[0;31m \u001b[0mstruct\u001b[0m\u001b[0;34m[\u001b[0m\u001b[0;34m\"counts\"\u001b[0m\u001b[0;34m]\u001b[0m \u001b[0;34m=\u001b[0m \u001b[0mcp\u001b[0m\u001b[0;34m.\u001b[0m\u001b[0mget_counts\u001b[0m\u001b[0;34m(\u001b[0m\u001b[0murl\u001b[0m\u001b[0;34m)\u001b[0m\u001b[0;34m\u001b[0m\u001b[0;34m\u001b[0m\u001b[0m\n\u001b[0m\u001b[1;32m      4\u001b[0m \u001b[0mstruct\u001b[0m\u001b[0;34m[\u001b[0m\u001b[0;34m\"followers\"\u001b[0m\u001b[0;34m]\u001b[0m \u001b[0;34m=\u001b[0m \u001b[0mcp\u001b[0m\u001b[0;34m.\u001b[0m\u001b[0mget_friends\u001b[0m\u001b[0;34m(\u001b[0m\u001b[0murl\u001b[0m\u001b[0;34m,\u001b[0m \u001b[0;34m\"followers\"\u001b[0m\u001b[0;34m)\u001b[0m\u001b[0;34m\u001b[0m\u001b[0;34m\u001b[0m\u001b[0m\n\u001b[1;32m      5\u001b[0m \u001b[0mstruct\u001b[0m\u001b[0;34m[\u001b[0m\u001b[0;34m\"following\"\u001b[0m\u001b[0;34m]\u001b[0m \u001b[0;34m=\u001b[0m \u001b[0mcp\u001b[0m\u001b[0;34m.\u001b[0m\u001b[0mget_friends\u001b[0m\u001b[0;34m(\u001b[0m\u001b[0murl\u001b[0m\u001b[0;34m,\u001b[0m \u001b[0;34m\"following\"\u001b[0m\u001b[0;34m)\u001b[0m\u001b[0;34m\u001b[0m\u001b[0;34m\u001b[0m\u001b[0m\n",
      "\u001b[0;31mTypeError\u001b[0m: get_counts() takes 0 positional arguments but 1 was given"
     ]
    }
   ],
   "source": [
    "#Collect user data\n",
    "struct = {}\n",
    "struct[\"counts\"] = cp.get_counts(url)\n",
    "struct[\"followers\"] = cp.get_friends(url, \"followers\")\n",
    "struct[\"following\"] = cp.get_friends(url, \"following\")\n",
    "struct[\"repos\"] = cp.get_repos(url, \"repositories\")\n",
    "struct[\"contributions\"] = cp.get_contributions(url)\n",
    "\n",
    "cp.print_struct(struct) "
   ]
  },
  {
   "cell_type": "markdown",
   "metadata": {},
   "source": [
    "### Collect Usernames\n",
    "We start with a set of 20 independent seed usernames and construct a list of usernames using their followers and following pages"
   ]
  },
  {
   "cell_type": "code",
   "execution_count": 49,
   "metadata": {},
   "outputs": [
    {
     "data": {
      "text/plain": [
       "20"
      ]
     },
     "execution_count": 49,
     "metadata": {},
     "output_type": "execute_result"
    }
   ],
   "source": [
    "#Read seed usernames\n",
    "f=open(\"../data/seed.txt\", \"r\")\n",
    "fl = f.readlines()\n",
    "\n",
    "seed = []\n",
    "for f in fl:\n",
    "    seed.append(f.rstrip())\n",
    "    #print(f.rstrip())\n",
    "len(seed)"
   ]
  },
  {
   "cell_type": "code",
   "execution_count": 25,
   "metadata": {
    "collapsed": true
   },
   "outputs": [
    {
     "name": "stdout",
     "output_type": "stream",
     "text": [
      "fjajhsidh\n",
      "apple-opensource\n",
      "garand\n",
      "s0md3v\n",
      "dcarlus\n",
      "eliasson\n",
      "hrt\n",
      "SharS\n",
      "invalid github link https://github.com/alteryx\n",
      "invalid github link https://github.com/alteryx\n",
      "alteryx\n",
      "willmcgugan\n",
      "jborg\n",
      "peijoy\n",
      "invalid github link https://github.com/SchlossLab\n",
      "invalid github link https://github.com/SchlossLab\n",
      "SchlossLab\n",
      "beefproject\n",
      "invalid github link https://github.com/Islandora-Labs\n",
      "invalid github link https://github.com/Islandora-Labs\n",
      "Islandora-Labs\n",
      "linusdan\n",
      "b1naryth1ef\n",
      "invalid github link https://github.com/daattali\n",
      "invalid github link https://github.com/daattali\n",
      "daattali\n",
      "invalid github link https://github.com/rileytomasek\n",
      "invalid github link https://github.com/rileytomasek\n",
      "rileytomasek\n",
      "asgr\n"
     ]
    }
   ],
   "source": [
    "#save all usernames of all followers and following\n",
    "for user in seed:\n",
    "    url = \"https://github.com/\" +  user\n",
    "    try:\n",
    "        sv.save_users(url, \"followers\")\n",
    "        sv.save_users(url, \"following\")\n",
    "        print(user)\n",
    "    except:\n",
    "        print(\"error: {}\".format(user) )"
   ]
  },
  {
   "cell_type": "code",
   "execution_count": 40,
   "metadata": {},
   "outputs": [
    {
     "name": "stdout",
     "output_type": "stream",
     "text": [
      "https://github.com/daattali?page=1&tab=followers\n"
     ]
    },
    {
     "data": {
      "text/plain": [
       "<Response [200]>"
      ]
     },
     "execution_count": 40,
     "metadata": {},
     "output_type": "execute_result"
    }
   ],
   "source": [
    "import requests\n",
    "\n",
    "user = 'daattali'\n",
    "home = \"https://github.com/\" +  user\n",
    "page = 1\n",
    "tab = \"followers\"\n",
    "\n",
    "url = home + \"?page=\" + str(page) + \"&tab=\" + tab\n",
    "print(url)\n",
    "\n",
    "html = requests.get(url)\n",
    "html"
   ]
  },
  {
   "cell_type": "code",
   "execution_count": 38,
   "metadata": {},
   "outputs": [
    {
     "name": "stdout",
     "output_type": "stream",
     "text": [
      "https://github.com/daattali\n",
      "invalid github link https://github.com/daattali\n"
     ]
    }
   ],
   "source": [
    "user = 'daattali'\n",
    "url = \"https://github.com/\" +  user\n",
    "print(url)  \n",
    "sv.save_users(url, \"followers\")"
   ]
  },
  {
   "cell_type": "code",
   "execution_count": 47,
   "metadata": {},
   "outputs": [],
   "source": [
    "#temp\n",
    "\n",
    "def fix_path(path):\n",
    "    return sys.argv[2] + path.replace(\"/\",\"%fs%\")\n",
    "\n",
    "def test_path(path):\n",
    "    try:\n",
    "        open(path, \"r\")\n",
    "    except IOError:\n",
    "        return 0\n",
    "    return 1  \n",
    "\n",
    "\n",
    "def get_friends(username,tab):\n",
    "    home = \"https://github.com/\" +  username\n",
    "    friends = {}\n",
    "    page = 1\n",
    "    while 1:\n",
    "        url = home + \"?page=\" + str(page) + \"&tab=\" + tab\n",
    "        if not test_path(fix_path(url)):\n",
    "            return friends\n",
    "        html = file_to_html(fix_path(url))\n",
    "        bfsO = BeautifulSoup(html, \"html.parser\")\n",
    "        users = bfsO.findAll(\"a\", {\"data-hovercard-type\": \"user\"})\n",
    "        if not users:\n",
    "            return friends\n",
    "        for user in users:\n",
    "            href = user.get(\"href\")\n",
    "            href = href[1:len(href)]\n",
    "            friends[href] = href\n",
    "        for friend in friends:\n",
    "            (friend)\n",
    "        page += 1\n",
    "    return friends"
   ]
  },
  {
   "cell_type": "code",
   "execution_count": 48,
   "metadata": {},
   "outputs": [
    {
     "ename": "NameError",
     "evalue": "name 'fix_path' is not defined",
     "output_type": "error",
     "traceback": [
      "\u001b[0;31m---------------------------------------------------------------------------\u001b[0m",
      "\u001b[0;31mNameError\u001b[0m                                 Traceback (most recent call last)",
      "\u001b[0;32m<ipython-input-48-6e459c7ac050>\u001b[0m in \u001b[0;36m<module>\u001b[0;34m\u001b[0m\n\u001b[1;32m      1\u001b[0m \u001b[0mstruct\u001b[0m \u001b[0;34m=\u001b[0m \u001b[0;34m{\u001b[0m\u001b[0;34m}\u001b[0m\u001b[0;34m\u001b[0m\u001b[0;34m\u001b[0m\u001b[0m\n\u001b[0;32m----> 2\u001b[0;31m \u001b[0mstruct\u001b[0m\u001b[0;34m[\u001b[0m\u001b[0;34m\"followers\"\u001b[0m\u001b[0;34m]\u001b[0m \u001b[0;34m=\u001b[0m \u001b[0mget_friends\u001b[0m\u001b[0;34m(\u001b[0m\u001b[0;34m'garand'\u001b[0m\u001b[0;34m,\u001b[0m \u001b[0;34m\"followers\"\u001b[0m\u001b[0;34m)\u001b[0m\u001b[0;34m\u001b[0m\u001b[0;34m\u001b[0m\u001b[0m\n\u001b[0m\u001b[1;32m      3\u001b[0m \u001b[0mstruct\u001b[0m\u001b[0;34m[\u001b[0m\u001b[0;34m\"following\"\u001b[0m\u001b[0;34m]\u001b[0m \u001b[0;34m=\u001b[0m \u001b[0mget_friends\u001b[0m\u001b[0;34m(\u001b[0m\u001b[0;34m'garand'\u001b[0m\u001b[0;34m,\u001b[0m \u001b[0;34m\"following\"\u001b[0m\u001b[0;34m)\u001b[0m\u001b[0;34m\u001b[0m\u001b[0;34m\u001b[0m\u001b[0m\n",
      "\u001b[0;32m<ipython-input-47-5b91a2710257>\u001b[0m in \u001b[0;36mget_friends\u001b[0;34m(username, tab)\u001b[0m\n\u001b[1;32m     14\u001b[0m     \u001b[0;32mwhile\u001b[0m \u001b[0;36m1\u001b[0m\u001b[0;34m:\u001b[0m\u001b[0;34m\u001b[0m\u001b[0;34m\u001b[0m\u001b[0m\n\u001b[1;32m     15\u001b[0m         \u001b[0murl\u001b[0m \u001b[0;34m=\u001b[0m \u001b[0mhome\u001b[0m \u001b[0;34m+\u001b[0m \u001b[0;34m\"?page=\"\u001b[0m \u001b[0;34m+\u001b[0m \u001b[0mstr\u001b[0m\u001b[0;34m(\u001b[0m\u001b[0mpage\u001b[0m\u001b[0;34m)\u001b[0m \u001b[0;34m+\u001b[0m \u001b[0;34m\"&tab=\"\u001b[0m \u001b[0;34m+\u001b[0m \u001b[0mtab\u001b[0m\u001b[0;34m\u001b[0m\u001b[0;34m\u001b[0m\u001b[0m\n\u001b[0;32m---> 16\u001b[0;31m         \u001b[0;32mif\u001b[0m \u001b[0;32mnot\u001b[0m \u001b[0mtest_path\u001b[0m\u001b[0;34m(\u001b[0m\u001b[0mfix_path\u001b[0m\u001b[0;34m(\u001b[0m\u001b[0murl\u001b[0m\u001b[0;34m)\u001b[0m\u001b[0;34m)\u001b[0m\u001b[0;34m:\u001b[0m\u001b[0;34m\u001b[0m\u001b[0;34m\u001b[0m\u001b[0m\n\u001b[0m\u001b[1;32m     17\u001b[0m             \u001b[0;32mreturn\u001b[0m \u001b[0mfriends\u001b[0m\u001b[0;34m\u001b[0m\u001b[0;34m\u001b[0m\u001b[0m\n\u001b[1;32m     18\u001b[0m         \u001b[0mhtml\u001b[0m \u001b[0;34m=\u001b[0m \u001b[0mfile_to_html\u001b[0m\u001b[0;34m(\u001b[0m\u001b[0mfix_path\u001b[0m\u001b[0;34m(\u001b[0m\u001b[0murl\u001b[0m\u001b[0;34m)\u001b[0m\u001b[0;34m)\u001b[0m\u001b[0;34m\u001b[0m\u001b[0;34m\u001b[0m\u001b[0m\n",
      "\u001b[0;31mNameError\u001b[0m: name 'fix_path' is not defined"
     ]
    }
   ],
   "source": [
    "struct = {}\n",
    "struct[\"followers\"] = get_friends('garand', \"followers\")\n",
    "struct[\"following\"] = get_friends('garand', \"following\")"
   ]
  },
  {
   "cell_type": "code",
   "execution_count": null,
   "metadata": {},
   "outputs": [],
   "source": []
  },
  {
   "cell_type": "code",
   "execution_count": 45,
   "metadata": {},
   "outputs": [
    {
     "ename": "NameError",
     "evalue": "name 'test_path' is not defined",
     "output_type": "error",
     "traceback": [
      "\u001b[0;31m---------------------------------------------------------------------------\u001b[0m",
      "\u001b[0;31mNameError\u001b[0m                                 Traceback (most recent call last)",
      "\u001b[0;32m<ipython-input-45-731a92920089>\u001b[0m in \u001b[0;36m<module>\u001b[0;34m\u001b[0m\n\u001b[1;32m      1\u001b[0m \u001b[0mstruct\u001b[0m \u001b[0;34m=\u001b[0m \u001b[0;34m{\u001b[0m\u001b[0;34m}\u001b[0m\u001b[0;34m\u001b[0m\u001b[0;34m\u001b[0m\u001b[0m\n\u001b[0;32m----> 2\u001b[0;31m \u001b[0mstruct\u001b[0m\u001b[0;34m[\u001b[0m\u001b[0;34m\"followers\"\u001b[0m\u001b[0;34m]\u001b[0m \u001b[0;34m=\u001b[0m \u001b[0mget_friends\u001b[0m\u001b[0;34m(\u001b[0m\u001b[0;34m'daattali'\u001b[0m\u001b[0;34m,\u001b[0m \u001b[0;34m\"followers\"\u001b[0m\u001b[0;34m)\u001b[0m\u001b[0;34m\u001b[0m\u001b[0;34m\u001b[0m\u001b[0m\n\u001b[0m\u001b[1;32m      3\u001b[0m \u001b[0mstruct\u001b[0m\u001b[0;34m[\u001b[0m\u001b[0;34m\"following\"\u001b[0m\u001b[0;34m]\u001b[0m \u001b[0;34m=\u001b[0m \u001b[0mget_friends\u001b[0m\u001b[0;34m(\u001b[0m\u001b[0;34m'daattali'\u001b[0m\u001b[0;34m,\u001b[0m \u001b[0;34m\"following\"\u001b[0m\u001b[0;34m)\u001b[0m\u001b[0;34m\u001b[0m\u001b[0;34m\u001b[0m\u001b[0m\n",
      "\u001b[0;32m<ipython-input-44-47b173f71b64>\u001b[0m in \u001b[0;36mget_friends\u001b[0;34m(username, tab)\u001b[0m\n\u001b[1;32m      6\u001b[0m     \u001b[0;32mwhile\u001b[0m \u001b[0;36m1\u001b[0m\u001b[0;34m:\u001b[0m\u001b[0;34m\u001b[0m\u001b[0;34m\u001b[0m\u001b[0m\n\u001b[1;32m      7\u001b[0m         \u001b[0murl\u001b[0m \u001b[0;34m=\u001b[0m \u001b[0mhome\u001b[0m \u001b[0;34m+\u001b[0m \u001b[0;34m\"?page=\"\u001b[0m \u001b[0;34m+\u001b[0m \u001b[0mstr\u001b[0m\u001b[0;34m(\u001b[0m\u001b[0mpage\u001b[0m\u001b[0;34m)\u001b[0m \u001b[0;34m+\u001b[0m \u001b[0;34m\"&tab=\"\u001b[0m \u001b[0;34m+\u001b[0m \u001b[0mtab\u001b[0m\u001b[0;34m\u001b[0m\u001b[0;34m\u001b[0m\u001b[0m\n\u001b[0;32m----> 8\u001b[0;31m         \u001b[0;32mif\u001b[0m \u001b[0;32mnot\u001b[0m \u001b[0mtest_path\u001b[0m\u001b[0;34m(\u001b[0m\u001b[0mfix_path\u001b[0m\u001b[0;34m(\u001b[0m\u001b[0murl\u001b[0m\u001b[0;34m)\u001b[0m\u001b[0;34m)\u001b[0m\u001b[0;34m:\u001b[0m\u001b[0;34m\u001b[0m\u001b[0;34m\u001b[0m\u001b[0m\n\u001b[0m\u001b[1;32m      9\u001b[0m             \u001b[0;32mreturn\u001b[0m \u001b[0mfriends\u001b[0m\u001b[0;34m\u001b[0m\u001b[0;34m\u001b[0m\u001b[0m\n\u001b[1;32m     10\u001b[0m         \u001b[0mhtml\u001b[0m \u001b[0;34m=\u001b[0m \u001b[0mfile_to_html\u001b[0m\u001b[0;34m(\u001b[0m\u001b[0mfix_path\u001b[0m\u001b[0;34m(\u001b[0m\u001b[0murl\u001b[0m\u001b[0;34m)\u001b[0m\u001b[0;34m)\u001b[0m\u001b[0;34m\u001b[0m\u001b[0;34m\u001b[0m\u001b[0m\n",
      "\u001b[0;31mNameError\u001b[0m: name 'test_path' is not defined"
     ]
    }
   ],
   "source": [
    "struct = {}\n",
    "struct[\"followers\"] = get_friends('daattali', \"followers\")\n",
    "struct[\"following\"] = get_friends('daattali', \"following\")"
   ]
  },
  {
   "cell_type": "code",
   "execution_count": 5,
   "metadata": {},
   "outputs": [
    {
     "name": "stdout",
     "output_type": "stream",
     "text": [
      "['Outige', 'hendrikjoosten']\n",
      "['Outige', 'hendrikjoosten']\n"
     ]
    }
   ],
   "source": [
    "followers = [k for k in struct['followers'].keys()] \n",
    "following = [k for k in struct['following'].keys()] \n",
    "\n",
    "print(followers)\n",
    "print(following)"
   ]
  },
  {
   "cell_type": "code",
   "execution_count": null,
   "metadata": {},
   "outputs": [],
   "source": []
  },
  {
   "cell_type": "code",
   "execution_count": null,
   "metadata": {},
   "outputs": [],
   "source": []
  },
  {
   "cell_type": "code",
   "execution_count": null,
   "metadata": {},
   "outputs": [],
   "source": []
  },
  {
   "cell_type": "code",
   "execution_count": null,
   "metadata": {},
   "outputs": [],
   "source": []
  },
  {
   "cell_type": "code",
   "execution_count": 15,
   "metadata": {},
   "outputs": [],
   "source": []
  },
  {
   "cell_type": "code",
   "execution_count": 17,
   "metadata": {
    "collapsed": true
   },
   "outputs": [
    {
     "name": "stdout",
     "output_type": "stream",
     "text": [
      "{{counts: array[5]}}\n",
      "repositories 9\n",
      "projects 0\n",
      "stars 2\n",
      "followers 2\n",
      "following 2 \n",
      "\n",
      "{{followers: dictionary[2] - indexed by follower's name}}\n",
      "Outige\n",
      "hendrikjoosten\n",
      "\n",
      "{{following: dictionary[2] - indexed by follower's name}}\n",
      "Outige\n",
      "hendrikjoosten\n",
      "\n",
      "{{repos: array[3]}}\n",
      "{repos[0]: array[10]} - project titles\n",
      "/conorosully/github-rater\n",
      "/conorosully/github-rater/stargazers\n",
      "/conorosully/deep-learning\n",
      "/conorosully/legal-case-prediction\n",
      "/conorosully/legal-analytics\n",
      "/conorosully/data-visualizations\n",
      "/conorosully/yelp-analysis\n",
      "/conorosully/financial-product-expenditure\n",
      "/conorosully/linear-regression\n",
      "/conorosully/language-classification\n",
      "\n",
      "{repos[1]: array[8]} - project languages\n",
      "Python\n",
      "Jupyter Notebook\n",
      "Jupyter Notebook\n",
      "Jupyter Notebook\n",
      "Jupyter Notebook\n",
      "R\n",
      "Jupyter Notebook\n",
      "Jupyter Notebook\n",
      "\n",
      "{repos[2]: array[9]} - last commit date\n",
      "Apr 10, 2020\n",
      "Apr 10, 2020\n",
      "Mar 31, 2020\n",
      "Feb 20, 2020\n",
      "Feb 20, 2020\n",
      "Feb 20, 2020\n",
      "Feb 19, 2020\n",
      "Feb 19, 2020\n",
      "Nov 18, 2019\n",
      "\n",
      "{{con: array[370]}} - [date, contribution]\n",
      "['2019-04-07', '0']\n",
      "['2019-04-08', '0']\n",
      "['2019-04-09', '0']\n",
      "['2019-04-10', '0']\n",
      "['2019-04-11', '0']\n",
      "['2019-04-12', '0']\n",
      "['2019-04-13', '0']\n",
      "['2019-04-14', '0']\n",
      "['2019-04-15', '0']\n",
      "['2019-04-16', '0']\n",
      "['2019-04-17', '0']\n",
      "['2019-04-18', '0']\n",
      "['2019-04-19', '0']\n",
      "['2019-04-20', '0']\n",
      "['2019-04-21', '0']\n",
      "['2019-04-22', '0']\n",
      "['2019-04-23', '0']\n",
      "['2019-04-24', '0']\n",
      "['2019-04-25', '0']\n",
      "['2019-04-26', '0']\n",
      "['2019-04-27', '0']\n",
      "['2019-04-28', '0']\n",
      "['2019-04-29', '0']\n",
      "['2019-04-30', '0']\n",
      "['2019-05-01', '0']\n",
      "['2019-05-02', '0']\n",
      "['2019-05-03', '0']\n",
      "['2019-05-04', '0']\n",
      "['2019-05-05', '0']\n",
      "['2019-05-06', '0']\n",
      "['2019-05-07', '0']\n",
      "['2019-05-08', '0']\n",
      "['2019-05-09', '0']\n",
      "['2019-05-10', '0']\n",
      "['2019-05-11', '0']\n",
      "['2019-05-12', '0']\n",
      "['2019-05-13', '0']\n",
      "['2019-05-14', '0']\n",
      "['2019-05-15', '0']\n",
      "['2019-05-16', '0']\n",
      "['2019-05-17', '0']\n",
      "['2019-05-18', '0']\n",
      "['2019-05-19', '0']\n",
      "['2019-05-20', '0']\n",
      "['2019-05-21', '0']\n",
      "['2019-05-22', '0']\n",
      "['2019-05-23', '0']\n",
      "['2019-05-24', '0']\n",
      "['2019-05-25', '0']\n",
      "['2019-05-26', '0']\n",
      "['2019-05-27', '0']\n",
      "['2019-05-28', '0']\n",
      "['2019-05-29', '0']\n",
      "['2019-05-30', '0']\n",
      "['2019-05-31', '0']\n",
      "['2019-06-01', '0']\n",
      "['2019-06-02', '0']\n",
      "['2019-06-03', '0']\n",
      "['2019-06-04', '0']\n",
      "['2019-06-05', '0']\n",
      "['2019-06-06', '0']\n",
      "['2019-06-07', '0']\n",
      "['2019-06-08', '0']\n",
      "['2019-06-09', '0']\n",
      "['2019-06-10', '0']\n",
      "['2019-06-11', '0']\n",
      "['2019-06-12', '0']\n",
      "['2019-06-13', '0']\n",
      "['2019-06-14', '0']\n",
      "['2019-06-15', '0']\n",
      "['2019-06-16', '0']\n",
      "['2019-06-17', '0']\n",
      "['2019-06-18', '0']\n",
      "['2019-06-19', '0']\n",
      "['2019-06-20', '0']\n",
      "['2019-06-21', '0']\n",
      "['2019-06-22', '0']\n",
      "['2019-06-23', '0']\n",
      "['2019-06-24', '0']\n",
      "['2019-06-25', '0']\n",
      "['2019-06-26', '0']\n",
      "['2019-06-27', '0']\n",
      "['2019-06-28', '0']\n",
      "['2019-06-29', '0']\n",
      "['2019-06-30', '0']\n",
      "['2019-07-01', '0']\n",
      "['2019-07-02', '0']\n",
      "['2019-07-03', '0']\n",
      "['2019-07-04', '0']\n",
      "['2019-07-05', '0']\n",
      "['2019-07-06', '0']\n",
      "['2019-07-07', '0']\n",
      "['2019-07-08', '0']\n",
      "['2019-07-09', '0']\n",
      "['2019-07-10', '0']\n",
      "['2019-07-11', '0']\n",
      "['2019-07-12', '0']\n",
      "['2019-07-13', '0']\n",
      "['2019-07-14', '0']\n",
      "['2019-07-15', '0']\n",
      "['2019-07-16', '0']\n",
      "['2019-07-17', '0']\n",
      "['2019-07-18', '0']\n",
      "['2019-07-19', '0']\n",
      "['2019-07-20', '0']\n",
      "['2019-07-21', '0']\n",
      "['2019-07-22', '0']\n",
      "['2019-07-23', '0']\n",
      "['2019-07-24', '0']\n",
      "['2019-07-25', '0']\n",
      "['2019-07-26', '0']\n",
      "['2019-07-27', '0']\n",
      "['2019-07-28', '0']\n",
      "['2019-07-29', '0']\n",
      "['2019-07-30', '0']\n",
      "['2019-07-31', '0']\n",
      "['2019-08-01', '0']\n",
      "['2019-08-02', '0']\n",
      "['2019-08-03', '0']\n",
      "['2019-08-04', '0']\n",
      "['2019-08-05', '0']\n",
      "['2019-08-06', '0']\n",
      "['2019-08-07', '0']\n",
      "['2019-08-08', '0']\n",
      "['2019-08-09', '0']\n",
      "['2019-08-10', '0']\n",
      "['2019-08-11', '0']\n",
      "['2019-08-12', '0']\n",
      "['2019-08-13', '0']\n",
      "['2019-08-14', '0']\n",
      "['2019-08-15', '0']\n",
      "['2019-08-16', '0']\n",
      "['2019-08-17', '0']\n",
      "['2019-08-18', '0']\n",
      "['2019-08-19', '0']\n",
      "['2019-08-20', '0']\n",
      "['2019-08-21', '0']\n",
      "['2019-08-22', '0']\n",
      "['2019-08-23', '0']\n",
      "['2019-08-24', '0']\n",
      "['2019-08-25', '0']\n",
      "['2019-08-26', '0']\n",
      "['2019-08-27', '0']\n",
      "['2019-08-28', '0']\n",
      "['2019-08-29', '0']\n",
      "['2019-08-30', '0']\n",
      "['2019-08-31', '0']\n",
      "['2019-09-01', '0']\n",
      "['2019-09-02', '0']\n",
      "['2019-09-03', '0']\n",
      "['2019-09-04', '0']\n",
      "['2019-09-05', '0']\n",
      "['2019-09-06', '0']\n",
      "['2019-09-07', '0']\n",
      "['2019-09-08', '0']\n",
      "['2019-09-09', '0']\n",
      "['2019-09-10', '0']\n",
      "['2019-09-11', '0']\n",
      "['2019-09-12', '0']\n",
      "['2019-09-13', '0']\n",
      "['2019-09-14', '0']\n",
      "['2019-09-15', '0']\n",
      "['2019-09-16', '0']\n",
      "['2019-09-17', '0']\n",
      "['2019-09-18', '0']\n",
      "['2019-09-19', '0']\n",
      "['2019-09-20', '0']\n",
      "['2019-09-21', '0']\n",
      "['2019-09-22', '0']\n",
      "['2019-09-23', '0']\n",
      "['2019-09-24', '0']\n",
      "['2019-09-25', '0']\n",
      "['2019-09-26', '0']\n",
      "['2019-09-27', '0']\n",
      "['2019-09-28', '0']\n",
      "['2019-09-29', '0']\n",
      "['2019-09-30', '0']\n",
      "['2019-10-01', '0']\n",
      "['2019-10-02', '0']\n",
      "['2019-10-03', '0']\n",
      "['2019-10-04', '0']\n",
      "['2019-10-05', '0']\n",
      "['2019-10-06', '0']\n",
      "['2019-10-07', '0']\n",
      "['2019-10-08', '0']\n",
      "['2019-10-09', '0']\n",
      "['2019-10-10', '0']\n",
      "['2019-10-11', '0']\n",
      "['2019-10-12', '0']\n",
      "['2019-10-13', '0']\n",
      "['2019-10-14', '0']\n",
      "['2019-10-15', '0']\n",
      "['2019-10-16', '0']\n",
      "['2019-10-17', '0']\n",
      "['2019-10-18', '0']\n",
      "['2019-10-19', '0']\n",
      "['2019-10-20', '0']\n",
      "['2019-10-21', '0']\n",
      "['2019-10-22', '0']\n",
      "['2019-10-23', '0']\n",
      "['2019-10-24', '0']\n",
      "['2019-10-25', '0']\n",
      "['2019-10-26', '0']\n",
      "['2019-10-27', '15']\n",
      "['2019-10-28', '0']\n",
      "['2019-10-29', '0']\n",
      "['2019-10-30', '0']\n",
      "['2019-10-31', '0']\n",
      "['2019-11-01', '0']\n",
      "['2019-11-02', '0']\n",
      "['2019-11-03', '0']\n",
      "['2019-11-04', '0']\n",
      "['2019-11-05', '0']\n",
      "['2019-11-06', '0']\n",
      "['2019-11-07', '0']\n",
      "['2019-11-08', '0']\n",
      "['2019-11-09', '0']\n",
      "['2019-11-10', '0']\n",
      "['2019-11-11', '0']\n",
      "['2019-11-12', '0']\n",
      "['2019-11-13', '0']\n",
      "['2019-11-14', '0']\n",
      "['2019-11-15', '3']\n",
      "['2019-11-16', '0']\n",
      "['2019-11-17', '12']\n",
      "['2019-11-18', '4']\n",
      "['2019-11-19', '0']\n",
      "['2019-11-20', '0']\n",
      "['2019-11-21', '0']\n",
      "['2019-11-22', '0']\n",
      "['2019-11-23', '0']\n",
      "['2019-11-24', '2']\n",
      "['2019-11-25', '0']\n",
      "['2019-11-26', '0']\n",
      "['2019-11-27', '0']\n",
      "['2019-11-28', '0']\n",
      "['2019-11-29', '0']\n",
      "['2019-11-30', '0']\n",
      "['2019-12-01', '0']\n",
      "['2019-12-02', '0']\n",
      "['2019-12-03', '0']\n",
      "['2019-12-04', '2']\n",
      "['2019-12-05', '0']\n",
      "['2019-12-06', '9']\n",
      "['2019-12-07', '0']\n",
      "['2019-12-08', '0']\n",
      "['2019-12-09', '0']\n",
      "['2019-12-10', '0']\n",
      "['2019-12-11', '0']\n",
      "['2019-12-12', '0']\n",
      "['2019-12-13', '0']\n",
      "['2019-12-14', '0']\n",
      "['2019-12-15', '0']\n",
      "['2019-12-16', '0']\n",
      "['2019-12-17', '0']\n",
      "['2019-12-18', '0']\n",
      "['2019-12-19', '0']\n",
      "['2019-12-20', '0']\n",
      "['2019-12-21', '0']\n",
      "['2019-12-22', '0']\n",
      "['2019-12-23', '0']\n",
      "['2019-12-24', '0']\n",
      "['2019-12-25', '0']\n",
      "['2019-12-26', '0']\n",
      "['2019-12-27', '0']\n",
      "['2019-12-28', '0']\n",
      "['2019-12-29', '0']\n",
      "['2019-12-30', '0']\n",
      "['2019-12-31', '0']\n",
      "['2020-01-01', '0']\n",
      "['2020-01-02', '0']\n",
      "['2020-01-03', '0']\n",
      "['2020-01-04', '0']\n",
      "['2020-01-05', '0']\n",
      "['2020-01-06', '0']\n",
      "['2020-01-07', '0']\n",
      "['2020-01-08', '0']\n",
      "['2020-01-09', '0']\n",
      "['2020-01-10', '0']\n",
      "['2020-01-11', '0']\n",
      "['2020-01-12', '0']\n",
      "['2020-01-13', '0']\n",
      "['2020-01-14', '0']\n",
      "['2020-01-15', '0']\n",
      "['2020-01-16', '0']\n",
      "['2020-01-17', '0']\n",
      "['2020-01-18', '0']\n",
      "['2020-01-19', '0']\n",
      "['2020-01-20', '0']\n",
      "['2020-01-21', '0']\n",
      "['2020-01-22', '0']\n",
      "['2020-01-23', '0']\n",
      "['2020-01-24', '0']\n",
      "['2020-01-25', '0']\n",
      "['2020-01-26', '0']\n",
      "['2020-01-27', '0']\n",
      "['2020-01-28', '0']\n",
      "['2020-01-29', '0']\n",
      "['2020-01-30', '0']\n",
      "['2020-01-31', '0']\n",
      "['2020-02-01', '0']\n",
      "['2020-02-02', '0']\n",
      "['2020-02-03', '0']\n",
      "['2020-02-04', '0']\n",
      "['2020-02-05', '0']\n",
      "['2020-02-06', '0']\n",
      "['2020-02-07', '0']\n",
      "['2020-02-08', '0']\n",
      "['2020-02-09', '0']\n",
      "['2020-02-10', '0']\n",
      "['2020-02-11', '0']\n",
      "['2020-02-12', '0']\n",
      "['2020-02-13', '0']\n",
      "['2020-02-14', '0']\n",
      "['2020-02-15', '0']\n",
      "['2020-02-16', '0']\n",
      "['2020-02-17', '0']\n",
      "['2020-02-18', '0']\n",
      "['2020-02-19', '11']\n",
      "['2020-02-20', '11']\n",
      "['2020-02-21', '0']\n",
      "['2020-02-22', '0']\n",
      "['2020-02-23', '0']\n",
      "['2020-02-24', '0']\n",
      "['2020-02-25', '0']\n",
      "['2020-02-26', '0']\n",
      "['2020-02-27', '0']\n",
      "['2020-02-28', '0']\n",
      "['2020-02-29', '0']\n",
      "['2020-03-01', '0']\n",
      "['2020-03-02', '0']\n",
      "['2020-03-03', '0']\n",
      "['2020-03-04', '0']\n",
      "['2020-03-05', '0']\n",
      "['2020-03-06', '0']\n",
      "['2020-03-07', '0']\n",
      "['2020-03-08', '0']\n",
      "['2020-03-09', '0']\n",
      "['2020-03-10', '0']\n",
      "['2020-03-11', '0']\n",
      "['2020-03-12', '0']\n",
      "['2020-03-13', '0']\n",
      "['2020-03-14', '0']\n",
      "['2020-03-15', '0']\n",
      "['2020-03-16', '0']\n",
      "['2020-03-17', '0']\n",
      "['2020-03-18', '0']\n",
      "['2020-03-19', '0']\n",
      "['2020-03-20', '0']\n",
      "['2020-03-21', '0']\n",
      "['2020-03-22', '0']\n",
      "['2020-03-23', '0']\n",
      "['2020-03-24', '0']\n",
      "['2020-03-25', '0']\n",
      "['2020-03-26', '0']\n",
      "['2020-03-27', '0']\n",
      "['2020-03-28', '0']\n",
      "['2020-03-29', '0']\n",
      "['2020-03-30', '6']\n",
      "['2020-03-31', '7']\n",
      "['2020-04-01', '2']\n",
      "['2020-04-02', '0']\n",
      "['2020-04-03', '2']\n",
      "['2020-04-04', '3']\n",
      "['2020-04-05', '10']\n",
      "['2020-04-06', '1']\n",
      "['2020-04-07', '1']\n",
      "['2020-04-08', '0']\n",
      "['2020-04-09', '5']\n",
      "['2020-04-10', '1']\n"
     ]
    }
   ],
   "source": []
  },
  {
   "cell_type": "code",
   "execution_count": 30,
   "metadata": {},
   "outputs": [
    {
     "name": "stdout",
     "output_type": "stream",
     "text": [
      "['Outige', 'hendrikjoosten']\n",
      "['Outige', 'hendrikjoosten']\n"
     ]
    }
   ],
   "source": [
    "followers = [k for k in struct['followers'].keys()] \n",
    "following = [k for k in struct['following'].keys()] \n",
    "\n",
    "print(followers)\n",
    "print(following)"
   ]
  },
  {
   "cell_type": "code",
   "execution_count": 26,
   "metadata": {},
   "outputs": [
    {
     "name": "stdout",
     "output_type": "stream",
     "text": [
      "Outige\n",
      "hendrikjoosten\n"
     ]
    }
   ],
   "source": [
    "struct['followers']\n",
    "for k in struct['following'].keys():\n",
    "    print(k)"
   ]
  },
  {
   "cell_type": "code",
   "execution_count": null,
   "metadata": {},
   "outputs": [],
   "source": []
  }
 ],
 "metadata": {
  "kernelspec": {
   "display_name": "Python 3",
   "language": "python",
   "name": "python3"
  },
  "language_info": {
   "codemirror_mode": {
    "name": "ipython",
    "version": 3
   },
   "file_extension": ".py",
   "mimetype": "text/x-python",
   "name": "python",
   "nbconvert_exporter": "python",
   "pygments_lexer": "ipython3",
   "version": "3.6.8"
  }
 },
 "nbformat": 4,
 "nbformat_minor": 2
}
