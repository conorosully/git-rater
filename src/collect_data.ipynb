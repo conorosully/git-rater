{
 "cells": [
  {
   "cell_type": "markdown",
   "metadata": {},
   "source": [
    "# Collect Data\n",
    "Collect GitHub profile html data"
   ]
  },
  {
   "cell_type": "code",
   "execution_count": 1,
   "metadata": {},
   "outputs": [],
   "source": [
    "import numpy as np\n",
    "import pandas as pd\n",
    "import save as sv\n",
    "import capture as cp"
   ]
  },
  {
   "cell_type": "markdown",
   "metadata": {},
   "source": [
    "### Demo\n",
    "A demonstration on how to use the webscrapper"
   ]
  },
  {
   "cell_type": "code",
   "execution_count": 2,
   "metadata": {},
   "outputs": [],
   "source": [
    "user = \"conorosully\"\n",
    "path = \"../data/test/\"\n",
    "\n",
    "#save html to folder\n",
    "sv.save_all(user, path)"
   ]
  },
  {
   "cell_type": "code",
   "execution_count": 9,
   "metadata": {
    "scrolled": true
   },
   "outputs": [],
   "source": [
    "#obtain features\n",
    "counts = cp.get_counts(user, path)\n",
    "followers = cp.get_friends(user, path, \"followers\")\n",
    "following = cp.get_friends(user, path, \"following\")\n",
    "repos = cp.get_repos(user, path)\n",
    "cont = cp.get_contributions(user, path);\n"
   ]
  },
  {
   "cell_type": "code",
   "execution_count": 10,
   "metadata": {
    "collapsed": true
   },
   "outputs": [
    {
     "name": "stdout",
     "output_type": "stream",
     "text": [
      "{'repos': 10, 'projects': 0, 'stars': 2, 'followers': 2, 'following': 2}\n",
      "['Outige', 'hendrikjoosten']\n",
      "['Outige', 'hendrikjoosten']\n",
      "{'name': ['github-rater', 'medium-articles', 'deep-learning', 'legal-case-prediction', 'legal-analytics', 'data-visualizations', 'yelp-analysis', 'financial-product-expenditure', 'linear-regression', 'language-classification'], 'languages': ['Jupyter Notebook', 'Jupyter Notebook', 'Jupyter Notebook', 'Jupyter Notebook', 'Jupyter Notebook', 'Jupyter Notebook', 'R', 'Jupyter Notebook', 'Jupyter Notebook'], 'last_commit': ['Apr 12, 2020', 'Apr 12, 2020', 'Apr 11, 2020', 'Mar 31, 2020', 'Feb 20, 2020', 'Feb 20, 2020', 'Feb 20, 2020', 'Feb 19, 2020', 'Feb 19, 2020', 'Nov 18, 2019']}\n",
      "[['2019-04-14', '0'], ['2019-04-15', '0'], ['2019-04-16', '0'], ['2019-04-17', '0'], ['2019-04-18', '0'], ['2019-04-19', '0'], ['2019-04-20', '0'], ['2019-04-21', '0'], ['2019-04-22', '0'], ['2019-04-23', '0'], ['2019-04-24', '0'], ['2019-04-25', '0'], ['2019-04-26', '0'], ['2019-04-27', '0'], ['2019-04-28', '0'], ['2019-04-29', '0'], ['2019-04-30', '0'], ['2019-05-01', '0'], ['2019-05-02', '0'], ['2019-05-03', '0'], ['2019-05-04', '0'], ['2019-05-05', '0'], ['2019-05-06', '0'], ['2019-05-07', '0'], ['2019-05-08', '0'], ['2019-05-09', '0'], ['2019-05-10', '0'], ['2019-05-11', '0'], ['2019-05-12', '0'], ['2019-05-13', '0'], ['2019-05-14', '0'], ['2019-05-15', '0'], ['2019-05-16', '0'], ['2019-05-17', '0'], ['2019-05-18', '0'], ['2019-05-19', '0'], ['2019-05-20', '0'], ['2019-05-21', '0'], ['2019-05-22', '0'], ['2019-05-23', '0'], ['2019-05-24', '0'], ['2019-05-25', '0'], ['2019-05-26', '0'], ['2019-05-27', '0'], ['2019-05-28', '0'], ['2019-05-29', '0'], ['2019-05-30', '0'], ['2019-05-31', '0'], ['2019-06-01', '0'], ['2019-06-02', '0'], ['2019-06-03', '0'], ['2019-06-04', '0'], ['2019-06-05', '0'], ['2019-06-06', '0'], ['2019-06-07', '0'], ['2019-06-08', '0'], ['2019-06-09', '0'], ['2019-06-10', '0'], ['2019-06-11', '0'], ['2019-06-12', '0'], ['2019-06-13', '0'], ['2019-06-14', '0'], ['2019-06-15', '0'], ['2019-06-16', '0'], ['2019-06-17', '0'], ['2019-06-18', '0'], ['2019-06-19', '0'], ['2019-06-20', '0'], ['2019-06-21', '0'], ['2019-06-22', '0'], ['2019-06-23', '0'], ['2019-06-24', '0'], ['2019-06-25', '0'], ['2019-06-26', '0'], ['2019-06-27', '0'], ['2019-06-28', '0'], ['2019-06-29', '0'], ['2019-06-30', '0'], ['2019-07-01', '0'], ['2019-07-02', '0'], ['2019-07-03', '0'], ['2019-07-04', '0'], ['2019-07-05', '0'], ['2019-07-06', '0'], ['2019-07-07', '0'], ['2019-07-08', '0'], ['2019-07-09', '0'], ['2019-07-10', '0'], ['2019-07-11', '0'], ['2019-07-12', '0'], ['2019-07-13', '0'], ['2019-07-14', '0'], ['2019-07-15', '0'], ['2019-07-16', '0'], ['2019-07-17', '0'], ['2019-07-18', '0'], ['2019-07-19', '0'], ['2019-07-20', '0'], ['2019-07-21', '0'], ['2019-07-22', '0'], ['2019-07-23', '0'], ['2019-07-24', '0'], ['2019-07-25', '0'], ['2019-07-26', '0'], ['2019-07-27', '0'], ['2019-07-28', '0'], ['2019-07-29', '0'], ['2019-07-30', '0'], ['2019-07-31', '0'], ['2019-08-01', '0'], ['2019-08-02', '0'], ['2019-08-03', '0'], ['2019-08-04', '0'], ['2019-08-05', '0'], ['2019-08-06', '0'], ['2019-08-07', '0'], ['2019-08-08', '0'], ['2019-08-09', '0'], ['2019-08-10', '0'], ['2019-08-11', '0'], ['2019-08-12', '0'], ['2019-08-13', '0'], ['2019-08-14', '0'], ['2019-08-15', '0'], ['2019-08-16', '0'], ['2019-08-17', '0'], ['2019-08-18', '0'], ['2019-08-19', '0'], ['2019-08-20', '0'], ['2019-08-21', '0'], ['2019-08-22', '0'], ['2019-08-23', '0'], ['2019-08-24', '0'], ['2019-08-25', '0'], ['2019-08-26', '0'], ['2019-08-27', '0'], ['2019-08-28', '0'], ['2019-08-29', '0'], ['2019-08-30', '0'], ['2019-08-31', '0'], ['2019-09-01', '0'], ['2019-09-02', '0'], ['2019-09-03', '0'], ['2019-09-04', '0'], ['2019-09-05', '0'], ['2019-09-06', '0'], ['2019-09-07', '0'], ['2019-09-08', '0'], ['2019-09-09', '0'], ['2019-09-10', '0'], ['2019-09-11', '0'], ['2019-09-12', '0'], ['2019-09-13', '0'], ['2019-09-14', '0'], ['2019-09-15', '0'], ['2019-09-16', '0'], ['2019-09-17', '0'], ['2019-09-18', '0'], ['2019-09-19', '0'], ['2019-09-20', '0'], ['2019-09-21', '0'], ['2019-09-22', '0'], ['2019-09-23', '0'], ['2019-09-24', '0'], ['2019-09-25', '0'], ['2019-09-26', '0'], ['2019-09-27', '0'], ['2019-09-28', '0'], ['2019-09-29', '0'], ['2019-09-30', '0'], ['2019-10-01', '0'], ['2019-10-02', '0'], ['2019-10-03', '0'], ['2019-10-04', '0'], ['2019-10-05', '0'], ['2019-10-06', '0'], ['2019-10-07', '0'], ['2019-10-08', '0'], ['2019-10-09', '0'], ['2019-10-10', '0'], ['2019-10-11', '0'], ['2019-10-12', '0'], ['2019-10-13', '0'], ['2019-10-14', '0'], ['2019-10-15', '0'], ['2019-10-16', '0'], ['2019-10-17', '0'], ['2019-10-18', '0'], ['2019-10-19', '0'], ['2019-10-20', '0'], ['2019-10-21', '0'], ['2019-10-22', '0'], ['2019-10-23', '0'], ['2019-10-24', '0'], ['2019-10-25', '0'], ['2019-10-26', '0'], ['2019-10-27', '15'], ['2019-10-28', '0'], ['2019-10-29', '0'], ['2019-10-30', '0'], ['2019-10-31', '0'], ['2019-11-01', '0'], ['2019-11-02', '0'], ['2019-11-03', '0'], ['2019-11-04', '0'], ['2019-11-05', '0'], ['2019-11-06', '0'], ['2019-11-07', '0'], ['2019-11-08', '0'], ['2019-11-09', '0'], ['2019-11-10', '0'], ['2019-11-11', '0'], ['2019-11-12', '0'], ['2019-11-13', '0'], ['2019-11-14', '0'], ['2019-11-15', '3'], ['2019-11-16', '0'], ['2019-11-17', '12'], ['2019-11-18', '4'], ['2019-11-19', '0'], ['2019-11-20', '0'], ['2019-11-21', '0'], ['2019-11-22', '0'], ['2019-11-23', '0'], ['2019-11-24', '2'], ['2019-11-25', '0'], ['2019-11-26', '0'], ['2019-11-27', '0'], ['2019-11-28', '0'], ['2019-11-29', '0'], ['2019-11-30', '0'], ['2019-12-01', '0'], ['2019-12-02', '0'], ['2019-12-03', '0'], ['2019-12-04', '2'], ['2019-12-05', '0'], ['2019-12-06', '9'], ['2019-12-07', '0'], ['2019-12-08', '0'], ['2019-12-09', '0'], ['2019-12-10', '0'], ['2019-12-11', '0'], ['2019-12-12', '0'], ['2019-12-13', '0'], ['2019-12-14', '0'], ['2019-12-15', '0'], ['2019-12-16', '0'], ['2019-12-17', '0'], ['2019-12-18', '0'], ['2019-12-19', '0'], ['2019-12-20', '0'], ['2019-12-21', '0'], ['2019-12-22', '0'], ['2019-12-23', '0'], ['2019-12-24', '0'], ['2019-12-25', '0'], ['2019-12-26', '0'], ['2019-12-27', '0'], ['2019-12-28', '0'], ['2019-12-29', '0'], ['2019-12-30', '0'], ['2019-12-31', '0'], ['2020-01-01', '0'], ['2020-01-02', '0'], ['2020-01-03', '0'], ['2020-01-04', '0'], ['2020-01-05', '0'], ['2020-01-06', '0'], ['2020-01-07', '0'], ['2020-01-08', '0'], ['2020-01-09', '0'], ['2020-01-10', '0'], ['2020-01-11', '0'], ['2020-01-12', '0'], ['2020-01-13', '0'], ['2020-01-14', '0'], ['2020-01-15', '0'], ['2020-01-16', '0'], ['2020-01-17', '0'], ['2020-01-18', '0'], ['2020-01-19', '0'], ['2020-01-20', '0'], ['2020-01-21', '0'], ['2020-01-22', '0'], ['2020-01-23', '0'], ['2020-01-24', '0'], ['2020-01-25', '0'], ['2020-01-26', '0'], ['2020-01-27', '0'], ['2020-01-28', '0'], ['2020-01-29', '0'], ['2020-01-30', '0'], ['2020-01-31', '0'], ['2020-02-01', '0'], ['2020-02-02', '0'], ['2020-02-03', '0'], ['2020-02-04', '0'], ['2020-02-05', '0'], ['2020-02-06', '0'], ['2020-02-07', '0'], ['2020-02-08', '0'], ['2020-02-09', '0'], ['2020-02-10', '0'], ['2020-02-11', '0'], ['2020-02-12', '0'], ['2020-02-13', '0'], ['2020-02-14', '0'], ['2020-02-15', '0'], ['2020-02-16', '0'], ['2020-02-17', '0'], ['2020-02-18', '0'], ['2020-02-19', '11'], ['2020-02-20', '11'], ['2020-02-21', '0'], ['2020-02-22', '0'], ['2020-02-23', '0'], ['2020-02-24', '0'], ['2020-02-25', '0'], ['2020-02-26', '0'], ['2020-02-27', '0'], ['2020-02-28', '0'], ['2020-02-29', '0'], ['2020-03-01', '0'], ['2020-03-02', '0'], ['2020-03-03', '0'], ['2020-03-04', '0'], ['2020-03-05', '0'], ['2020-03-06', '0'], ['2020-03-07', '0'], ['2020-03-08', '0'], ['2020-03-09', '0'], ['2020-03-10', '0'], ['2020-03-11', '0'], ['2020-03-12', '0'], ['2020-03-13', '0'], ['2020-03-14', '0'], ['2020-03-15', '0'], ['2020-03-16', '0'], ['2020-03-17', '0'], ['2020-03-18', '0'], ['2020-03-19', '0'], ['2020-03-20', '0'], ['2020-03-21', '0'], ['2020-03-22', '0'], ['2020-03-23', '0'], ['2020-03-24', '0'], ['2020-03-25', '0'], ['2020-03-26', '0'], ['2020-03-27', '0'], ['2020-03-28', '0'], ['2020-03-29', '0'], ['2020-03-30', '6'], ['2020-03-31', '7'], ['2020-04-01', '2'], ['2020-04-02', '0'], ['2020-04-03', '2'], ['2020-04-04', '3'], ['2020-04-05', '10'], ['2020-04-06', '1'], ['2020-04-07', '1'], ['2020-04-08', '0'], ['2020-04-09', '5'], ['2020-04-10', '3'], ['2020-04-11', '4'], ['2020-04-12', '10']]\n"
     ]
    }
   ],
   "source": [
    "print(counts)\n",
    "print(followers)\n",
    "print(following)\n",
    "print(repos)\n",
    "print(cont)"
   ]
  },
  {
   "cell_type": "markdown",
   "metadata": {},
   "source": [
    "### Collect Usernames\n",
    "We start with a set of 20 independent seed usernames and construct a list of usernames using their followers and following pages"
   ]
  },
  {
   "cell_type": "code",
   "execution_count": 4,
   "metadata": {},
   "outputs": [
    {
     "data": {
      "text/plain": [
       "20"
      ]
     },
     "execution_count": 4,
     "metadata": {},
     "output_type": "execute_result"
    }
   ],
   "source": [
    "#Read seed usernames\n",
    "f=open(\"../data/seed.txt\", \"r\")\n",
    "fl = f.readlines()\n",
    "\n",
    "seed = []\n",
    "for f in fl:\n",
    "    seed.append(f.rstrip())\n",
    "    #print(f.rstrip())\n",
    "len(seed)"
   ]
  },
  {
   "cell_type": "code",
   "execution_count": 2,
   "metadata": {},
   "outputs": [],
   "source": [
    "path = \"../data/users/\""
   ]
  },
  {
   "cell_type": "code",
   "execution_count": null,
   "metadata": {},
   "outputs": [
    {
     "name": "stdout",
     "output_type": "stream",
     "text": [
      "fjajhsidh\n",
      "apple-opensource\n",
      "garand\n",
      "error: s0md3v\n",
      "dcarlus\n",
      "eliasson\n"
     ]
    }
   ],
   "source": [
    "#save all usernames of all followers and following\n",
    "# for user in seed:\n",
    "#     try:\n",
    "#         sv.save_users(user, path, \"followers\")\n",
    "#         sv.save_users(user,path, \"following\")\n",
    "#         print(user)\n",
    "#     except:\n",
    "#         print(\"error: {}\".format(user) )"
   ]
  },
  {
   "cell_type": "code",
   "execution_count": 5,
   "metadata": {},
   "outputs": [
    {
     "name": "stdout",
     "output_type": "stream",
     "text": [
      "fjajhsidh\n",
      "apple-opensource\n",
      "garand\n",
      "s0md3v\n",
      "dcarlus\n",
      "eliasson\n",
      "hrt\n",
      "SharS\n",
      "willmcgugan\n",
      "jborg\n",
      "peijoy\n",
      "beefproject\n",
      "linusdan\n",
      "b1naryth1ef\n",
      "daattali\n",
      "rileytomasek\n",
      "asgr\n",
      "thinline72\n",
      "hudsonpereira\n",
      "ahegel\n"
     ]
    }
   ],
   "source": [
    "usernames = seed.copy()\n",
    "\n",
    "for user in seed:\n",
    "    followers = cp.get_friends(user, path, \"followers\")\n",
    "    following = cp.get_friends(user, path, \"following\")\n",
    "\n",
    "    #add at most 10 followers \n",
    "    if len(followers)>10:\n",
    "        usernames.extend(np.random.choice(followers,10, replace=False))\n",
    "    else:\n",
    "        usernames.extend(followers)\n",
    "        \n",
    "    #add at most 10 following    \n",
    "    if len(following)>10:\n",
    "        usernames.extend(np.random.choice(following,10, replace=False))\n",
    "    else:\n",
    "        usernames.extend(following)\n",
    "\n",
    "    print(user)\n"
   ]
  },
  {
   "cell_type": "code",
   "execution_count": 8,
   "metadata": {},
   "outputs": [
    {
     "data": {
      "text/plain": [
       "265"
      ]
     },
     "execution_count": 8,
     "metadata": {},
     "output_type": "execute_result"
    }
   ],
   "source": [
    "np.random.shuffle(usernames)\n",
    "len(set(usernames))"
   ]
  },
  {
   "cell_type": "markdown",
   "metadata": {},
   "source": [
    "### NOTE\n",
    "\n",
    "Some usernames comming out as:\n",
    "\n",
    "'ttps://github.com/jonhare'"
   ]
  },
  {
   "cell_type": "code",
   "execution_count": 68,
   "metadata": {},
   "outputs": [],
   "source": [
    "# f=open(\"../data/users.txt\", \"w\")\n",
    "\n",
    "# for user in set(usernames):\n",
    "#     f.writelines(user+'\\n')\n",
    "# f.close()"
   ]
  },
  {
   "cell_type": "markdown",
   "metadata": {},
   "source": [
    "## Save HTML"
   ]
  },
  {
   "cell_type": "code",
   "execution_count": 26,
   "metadata": {},
   "outputs": [
    {
     "name": "stdout",
     "output_type": "stream",
     "text": [
      "JEddy92\n",
      "fjajhsidh\n",
      "benataranburu\n",
      "ebeshero\n",
      "craftfortress\n",
      "enningxie\n",
      "babakramak\n",
      "dplanter\n",
      "madv-rd\n",
      "marcusmartins\n",
      "fr34k8\n",
      "kamalkraj\n",
      "alextpy\n",
      "aseyedmehdi\n",
      "Viewtiful\n",
      "snakers4\n",
      "CarolinaMoraes\n",
      "rileytomasek\n",
      "RICCIARDI-Adrien\n",
      "SabineBellstedt\n",
      "lisboaxd\n",
      "Meoo\n",
      "TDKPS\n",
      "Btibert3\n",
      "hudsonpereira\n",
      "LendisFabri\n",
      "mleise\n",
      "baiwyc119\n",
      "ustbgaofan\n",
      "mattrunchey\n",
      "neitandias\n"
     ]
    }
   ],
   "source": [
    "success = [\n",
    "    'JEddy92',\n",
    "'fjajhsidh',\n",
    "'benataranburu',\n",
    "'ebeshero',\n",
    "'craftfortress',\n",
    "    'enningxie',\n",
    "'babakramak',\n",
    "'dplanter',\n",
    "'madv-rd',\n",
    "'marcusmartins',\n",
    "'fr34k8',\n",
    "'kamalkraj',\n",
    "'alextpy',\n",
    "'aseyedmehdi',\n",
    "'Viewtiful',\n",
    "'snakers4',\n",
    "'CarolinaMoraes',\n",
    "'rileytomasek',\n",
    "'RICCIARDI-Adrien',\n",
    "'SabineBellstedt',\n",
    "'lisboaxd',\n",
    "'Meoo',\n",
    "'TDKPS',\n",
    "'Btibert3',\n",
    "'hudsonpereira',\n",
    "'LendisFabri',\n",
    "'mleise',\n",
    "'baiwyc119',\n",
    "'ustbgaofan',\n",
    "'mattrunchey',\n",
    "'neitandias']\n",
    "\n",
    "for s in success:\n",
    "    print(s)"
   ]
  },
  {
   "cell_type": "code",
   "execution_count": null,
   "metadata": {},
   "outputs": [],
   "source": []
  },
  {
   "cell_type": "code",
   "execution_count": 24,
   "metadata": {},
   "outputs": [
    {
     "data": {
      "text/plain": [
       "39"
      ]
     },
     "execution_count": 24,
     "metadata": {},
     "output_type": "execute_result"
    }
   ],
   "source": [
    "#Read full list of usernames\n",
    "f=open(\"../data/users_error.txt\", \"r\")\n",
    "fl = f.readlines()\n",
    "\n",
    "usernames = []\n",
    "for f in fl:\n",
    "    usernames.append(f.rstrip())\n",
    "    #print(f.rstrip())\n",
    "usernames = list(set(usernames) - set(success))\n",
    "np.random.shuffle(usernames)\n",
    "len(usernames)"
   ]
  },
  {
   "cell_type": "code",
   "execution_count": 25,
   "metadata": {
    "collapsed": true
   },
   "outputs": [
    {
     "name": "stdout",
     "output_type": "stream",
     "text": [
      "Sounglover\n",
      "invalid github link https://github.com/douglascrockford?page=66&tab=followers\n",
      "invalid github link https://github.com/douglascrockford?page=1&tab=following\n",
      "invalid github link https://github.com/douglascrockford\n",
      "douglascrockford\n",
      "Coestar\n",
      "stduolc\n",
      "taranu\n",
      "jensimmons\n",
      "invalid github link https://github.com/paulirish?page=118&tab=followers\n",
      "invalid github link https://github.com/paulirish?page=1&tab=following\n",
      "invalid github link https://github.com/paulirish\n",
      "paulirish\n",
      "abirnedia\n",
      "invalid github link https://github.com/Dmitriy-Vas?page=231&tab=following\n",
      "invalid github link https://github.com/Dmitriy-Vas\n",
      "Dmitriy-Vas\n",
      "hakimel\n",
      "rossmjr\n",
      "AlessonEvangelista\n",
      "invalid github link https://github.com/pengliheng?page=198&tab=following\n",
      "pengliheng\n",
      "Akashnil\n",
      "Fluen\n",
      "invalid github link https://github.com/mathiasbynens?page=48&tab=followers\n",
      "invalid github link https://github.com/mathiasbynens?page=1&tab=following\n",
      "mathiasbynens\n",
      "asherf\n",
      "invalid github link https://github.com/gauravssnl?page=72&tab=following\n",
      "gauravssnl\n",
      "VIP21\n",
      "teddy-error\n",
      "damenleeturks\n",
      "Cm0nsters\n",
      "invalid github link https://github.com/angusshire?page=123&tab=followers\n",
      "invalid github link https://github.com/angusshire?page=1&tab=following\n",
      "invalid github link https://github.com/angusshire\n",
      "angusshire\n",
      "FilhoSergio\n",
      "invalid github link https://github.com/MichalPaszkiewicz?page=45&tab=following\n",
      "MichalPaszkiewicz\n",
      "invalid github link https://github.com/torvalds?page=49&tab=followers\n",
      "invalid github link https://github.com/torvalds?page=1&tab=following\n",
      "invalid github link https://github.com/torvalds\n",
      "torvalds\n",
      "chriscoyier\n",
      "invalid github link https://github.com/ajsb85?page=183&tab=following\n",
      "ajsb85\n",
      "olessyaz\n",
      "invalid github link https://github.com/nelsonic?page=74&tab=following\n",
      "invalid github link https://github.com/nelsonic\n",
      "nelsonic\n",
      "SparXFusion\n",
      "invalid github link https://github.com/cusspvz?page=98&tab=following\n",
      "invalid github link https://github.com/cusspvz\n",
      "cusspvz\n",
      "Colkadome\n",
      "invalid github link https://github.com/antirez?page=206&tab=followers\n",
      "antirez\n",
      "Duome\n",
      "vedovelli\n",
      "invalid github link https://github.com/jeresig?page=97&tab=followers\n",
      "invalid github link https://github.com/jeresig?page=2&tab=following\n",
      "jeresig\n",
      "b1naryth1ef\n",
      "invalid github link https://github.com/Lisprez?page=589&tab=following\n",
      "Lisprez\n"
     ]
    }
   ],
   "source": [
    "import time\n",
    "\n",
    "#save html to folder\n",
    "path = \"../data/html/\"\n",
    "errors = []\n",
    "success = []\n",
    "for user in usernames:\n",
    "    try:\n",
    "        sv.save_all(user, path)\n",
    "        print(user)\n",
    "        success.append(user)\n",
    "    except:\n",
    "        print(\"error: {}\".format(user))\n",
    "        errors.append(user)\n",
    " \n",
    "    # Wait for 5 seconds\n",
    "    time.sleep(30)"
   ]
  },
  {
   "cell_type": "markdown",
   "metadata": {},
   "source": [
    "## Test saved html"
   ]
  },
  {
   "cell_type": "code",
   "execution_count": 58,
   "metadata": {},
   "outputs": [
    {
     "data": {
      "text/plain": [
       "246"
      ]
     },
     "execution_count": 58,
     "metadata": {},
     "output_type": "execute_result"
    }
   ],
   "source": [
    "#Read full list of usernames\n",
    "f=open(\"../data/users_success.txt\", \"r\")\n",
    "fl = f.readlines()\n",
    "\n",
    "usernames = []\n",
    "for f in fl:\n",
    "    usernames.append(f.rstrip())\n",
    "    #print(f.rstrip())\n",
    "#usernames = list(set(usernames) - set(success))\n",
    "#np.random.shuffle(usernames)\n",
    "username = set(usernames)\n",
    "len(username)"
   ]
  },
  {
   "cell_type": "code",
   "execution_count": 59,
   "metadata": {},
   "outputs": [
    {
     "name": "stdout",
     "output_type": "stream",
     "text": [
      "(0) Akashnil\n",
      "{'repos': 10, 'projects': 0, 'stars': 0, 'followers': 3, 'following': 0}\n",
      "Followers: 3  Following: 0\n",
      "names: 19  languages: 10  last_commit: 10\n",
      "Contributions: 365\n",
      "----------------------------------------------------------------------------------------------------\n",
      "(1) asherf\n",
      "{'repos': 78, 'projects': 0, 'stars': 251, 'followers': 31, 'following': 303}\n",
      "Followers: 32  Following: 307\n",
      "names: 95  languages: 30  last_commit: 30\n",
      "Contributions: 365\n",
      "----------------------------------------------------------------------------------------------------\n",
      "(2) VIP21\n",
      "{'repos': 93, 'projects': 0, 'stars': 77, 'followers': 3, 'following': 13}\n",
      "Followers: 3  Following: 13\n",
      "names: 97  languages: 27  last_commit: 30\n",
      "Contributions: 365\n",
      "----------------------------------------------------------------------------------------------------\n",
      "(3) teddy-error\n",
      "{'repos': 22, 'projects': 0, 'stars': 634, 'followers': 18, 'following': 171}\n",
      "Followers: 18  Following: 174\n",
      "names: 64  languages: 21  last_commit: 22\n",
      "Contributions: 365\n",
      "----------------------------------------------------------------------------------------------------\n",
      "(4) damenleeturks\n",
      "{'repos': 31, 'projects': 0, 'stars': 902, 'followers': 9, 'following': 33}\n",
      "Followers: 9  Following: 32\n",
      "names: 100  languages: 24  last_commit: 30\n",
      "Contributions: 365\n",
      "----------------------------------------------------------------------------------------------------\n",
      "(5) Cm0nsters\n",
      "{'repos': 1, 'projects': 0, 'stars': 5, 'followers': 2, 'following': 8}\n",
      "Followers: 2  Following: 8\n",
      "names: 6  languages: 1  last_commit: 1\n",
      "Contributions: 365\n",
      "----------------------------------------------------------------------------------------------------\n",
      "(6) FilhoSergio\n",
      "{'repos': 33, 'projects': 0, 'stars': 191, 'followers': 28, 'following': 73}\n",
      "Followers: 28  Following: 73\n",
      "names: 64  languages: 18  last_commit: 30\n",
      "Contributions: 365\n",
      "----------------------------------------------------------------------------------------------------\n",
      "(7) chriscoyier\n",
      "{'repos': 59, 'projects': 0, 'stars': 633, 'followers': 7400, 'following': 166}\n",
      "Followers: 7444  Following: 170\n",
      "names: 90  languages: 27  last_commit: 30\n",
      "Contributions: 365\n",
      "----------------------------------------------------------------------------------------------------\n",
      "(8) olessyaz\n",
      "{'repos': 12, 'projects': 0, 'stars': 18, 'followers': 8, 'following': 9}\n",
      "Followers: 8  Following: 9\n",
      "names: 33  languages: 11  last_commit: 12\n",
      "Contributions: 365\n",
      "----------------------------------------------------------------------------------------------------\n",
      "(9) SparXFusion\n",
      "{'repos': 60, 'projects': 0, 'stars': 38, 'followers': 26, 'following': 189}\n",
      "Followers: 26  Following: 191\n",
      "names: 53  languages: 27  last_commit: 30\n",
      "Contributions: 365\n",
      "----------------------------------------------------------------------------------------------------\n",
      "(10) Colkadome\n",
      "{'repos': 7, 'projects': 0, 'stars': 9, 'followers': 4, 'following': 4}\n",
      "Followers: 4  Following: 4\n",
      "names: 13  languages: 7  last_commit: 7\n",
      "Contributions: 365\n",
      "----------------------------------------------------------------------------------------------------\n",
      "(11) Duome\n",
      "{'repos': 8, 'projects': 0, 'stars': 5, 'followers': 1, 'following': 11}\n",
      "Followers: 1  Following: 11\n",
      "names: 8  languages: 6  last_commit: 8\n",
      "Contributions: 365\n",
      "----------------------------------------------------------------------------------------------------\n",
      "(12) vedovelli\n",
      "{'repos': 151, 'projects': 0, 'stars': 236, 'followers': 1400, 'following': 126}\n",
      "Followers: 1371  Following: 127\n",
      "names: 79  languages: 28  last_commit: 30\n",
      "Contributions: 365\n",
      "----------------------------------------------------------------------------------------------------\n",
      "(13) b1naryth1ef\n",
      "{'repos': 138, 'projects': 0, 'stars': 539, 'followers': 358, 'following': 95}\n",
      "Followers: 360  Following: 95\n",
      "names: 100  languages: 30  last_commit: 30\n",
      "Contributions: 365\n",
      "----------------------------------------------------------------------------------------------------\n"
     ]
    }
   ],
   "source": [
    "for i,user in enumerate(usernames[232:]):\n",
    "    counts = cp.get_counts(user, path)\n",
    "    followers = cp.get_friends(user, path, \"followers\")\n",
    "    following = cp.get_friends(user, path, \"following\")\n",
    "    repos = cp.get_repos(user, path)\n",
    "    cont = cp.get_contributions(user, path)\n",
    "    \n",
    "    \n",
    "    print(\"({}) {}\".format(i,user))\n",
    "    print(counts)\n",
    "    print(\"Followers: {}  Following: {}\".format(len(followers),len(following)) )\n",
    "    print(\"names: {}  languages: {}  last_commit: {}\".format(len(repos['name']),len(repos['languages']) ,len(repos['last_commit'])))\n",
    "    print('Contributions: {}'.format(len(cont)))\n",
    "    print('-'*100)\n",
    "    "
   ]
  },
  {
   "cell_type": "code",
   "execution_count": null,
   "metadata": {},
   "outputs": [],
   "source": [
    "#remove\n",
    "rtobarb\n",
    "Fluen"
   ]
  },
  {
   "cell_type": "code",
   "execution_count": 63,
   "metadata": {
    "collapsed": true
   },
   "outputs": [
    {
     "name": "stdout",
     "output_type": "stream",
     "text": [
      "https://github.com/indeyets ,indeyets,\n",
      "https://github.com/ructhless ,ructhless,\n",
      "https://github.com/garand ,garand,\n",
      "https://github.com/ahmednour2030 ,ahmednour2030,\n",
      "https://github.com/leimao ,leimao,\n",
      "https://github.com/forero ,forero,\n",
      "https://github.com/osvaldoabel ,osvaldoabel,\n",
      "https://github.com/kenny920404 ,kenny920404,\n",
      "https://github.com/jovenbarola ,jovenbarola,\n",
      "https://github.com/travisneilson ,travisneilson,\n",
      "https://github.com/asgr ,asgr,\n",
      "https://github.com/bradp ,bradp,\n",
      "https://github.com/oddbjorn ,oddbjorn,\n",
      "https://github.com/markjaquith ,markjaquith,\n",
      "https://github.com/mgcfish ,mgcfish,\n",
      "https://github.com/matthewmorrone ,matthewmorrone,\n",
      "https://github.com/Marc-g-Z ,Marc-g-Z,\n",
      "https://github.com/xteamleader ,xteamleader,\n",
      "https://github.com/holblin ,holblin,\n",
      "https://github.com/mcburton ,mcburton,\n",
      "https://github.com/Dailer ,Dailer,\n",
      "https://github.com/justinrclarke ,justinrclarke,\n",
      "https://github.com/mgrankin ,mgrankin,\n",
      "https://github.com/nfo94 ,nfo94,\n",
      "https://github.com/SharS ,SharS,\n",
      "https://github.com/ZhiyuWang95 ,ZhiyuWang95,\n",
      "https://github.com/spekode ,spekode,\n",
      "https://github.com/ericdouglas ,ericdouglas,\n",
      "https://github.com/frankscholten ,frankscholten,\n",
      "https://github.com/kublaj ,kublaj,\n",
      "https://github.com/slice ,slice,\n",
      "https://github.com/HAE ,HAE,\n",
      "https://github.com/resslerruntime ,resslerruntime,\n",
      "https://github.com/charmaine ,charmaine,\n",
      "https://github.com/mmcgrana ,mmcgrana,\n",
      "https://github.com/drastorguev ,drastorguev,\n",
      "https://github.com/daattali ,daattali,\n",
      "https://github.com/steven-murray ,steven-murray,\n",
      "https://github.com/brian-mann ,brian-mann,\n",
      "https://github.com/meysam-jeffrey ,meysam-jeffrey,\n",
      "https://github.com/Likhonblog ,Likhonblog,\n",
      "https://github.com/toqueteos ,toqueteos,\n",
      "https://github.com/thomased ,thomased,\n",
      "https://github.com/btimby ,btimby,\n",
      "https://github.com/ericgjackson ,ericgjackson,\n",
      "https://github.com/fsschmitt ,fsschmitt,\n",
      "https://github.com/waz0820 ,waz0820,\n",
      "https://github.com/perchslayer ,perchslayer,\n",
      "https://github.com/chenghuige ,chenghuige,\n",
      "https://github.com/lukecav ,lukecav,\n",
      "https://github.com/enbohm ,enbohm,\n",
      "https://github.com/beefproject ,beefproject,\n",
      "https://github.com/Jeff-shen ,Jeff-shen,\n",
      "https://github.com/eliasson ,eliasson,\n",
      "https://github.com/NonOmnisMoriar ,NonOmnisMoriar,\n",
      "https://github.com/Manal-Almodala ,Manal-Almodala,\n",
      "https://github.com/dendetberor ,dendetberor,\n",
      "https://github.com/honnibal ,honnibal,\n",
      "https://github.com/chipbennett ,chipbennett,\n",
      "https://github.com/AngusWright ,AngusWright,\n",
      "https://github.com/eliben ,eliben,\n",
      "https://github.com/Borda ,Borda,\n",
      "https://github.com/peijoy ,peijoy,\n",
      "https://github.com/mjlavin80 ,mjlavin80,\n",
      "https://github.com/subraat ,subraat,\n",
      "https://github.com/th3-alch3m1st ,th3-alch3m1st,\n",
      "https://github.com/FelixLukk ,FelixLukk,\n",
      "https://github.com/AshutoshAgrahari ,AshutoshAgrahari,\n",
      "https://github.com/g7 ,g7,\n",
      "https://github.com/vincenzobaz ,vincenzobaz,\n",
      "https://github.com/lucy ,lucy,\n",
      "https://github.com/aayush20168048 ,aayush20168048,\n",
      "https://github.com/JarlPenguin ,JarlPenguin,\n",
      "https://github.com/luan0ap ,luan0ap,\n",
      "https://github.com/loveshell ,loveshell,\n",
      "https://github.com/ShawnXiha ,ShawnXiha,\n",
      "https://github.com/r1 ,r1,\n",
      "https://github.com/coffeepunk ,coffeepunk,\n",
      "https://github.com/philrabin ,philrabin,\n",
      "https://github.com/tomasbjerre ,tomasbjerre,\n",
      "https://github.com/majl ,majl,\n",
      "https://github.com/ChronoMonochrome ,ChronoMonochrome,\n",
      "https://github.com/aricorte ,aricorte,\n",
      "https://github.com/ahegel ,ahegel,\n",
      "https://github.com/llubu ,llubu,\n",
      "https://github.com/willianjusten ,willianjusten,\n",
      "https://github.com/vinicius73 ,vinicius73,\n",
      "https://github.com/codec-abc ,codec-abc,\n",
      "https://github.com/knomad ,knomad,\n",
      "https://github.com/NiclasCedermalm ,NiclasCedermalm,\n",
      "https://github.com/jamebolton44 ,jamebolton44,\n",
      "https://github.com/Anto314 ,Anto314,\n",
      "https://github.com/kaikecarlos ,kaikecarlos,\n",
      "https://github.com/saharmansorkiai ,saharmansorkiai,\n",
      "https://github.com/weaiken ,weaiken,\n",
      "https://github.com/chaohandata ,chaohandata,\n",
      "https://github.com/raphaelshirley ,raphaelshirley,\n",
      "https://github.com/manjunath00 ,manjunath00,\n",
      "https://github.com/ymmah ,ymmah,\n",
      "https://github.com/tiinus ,tiinus,\n",
      "https://github.com/kernullist ,kernullist,\n",
      "https://github.com/nemobgs ,nemobgs,\n",
      "https://github.com/StriveMario ,StriveMario,\n",
      "https://github.com/arkev ,arkev,\n",
      "https://github.com/rINanDO ,rINanDO,\n",
      "https://github.com/maxto ,maxto,\n",
      "https://github.com/teserak ,teserak,\n",
      "https://github.com/maikpaixao ,maikpaixao,\n",
      "https://github.com/jinseob2kim ,jinseob2kim,\n",
      "https://github.com/MarinoSanLorenzo ,MarinoSanLorenzo,\n",
      "https://github.com/Fineas ,Fineas,\n",
      "https://github.com/sjuxax ,sjuxax,\n",
      "https://github.com/zhenghanxin ,zhenghanxin,\n",
      "https://github.com/freemanZYQ ,freemanZYQ,\n",
      "https://github.com/obreschkow ,obreschkow,\n",
      "https://github.com/mjlyons ,mjlyons,\n",
      "https://github.com/addiola ,addiola,\n",
      "https://github.com/aron-bordin ,aron-bordin,\n",
      "https://github.com/hrt ,hrt,\n",
      "https://github.com/Alaswadi ,Alaswadi,\n",
      "https://github.com/mbcoalson ,mbcoalson,\n",
      "https://github.com/brian-cooney ,brian-cooney,\n",
      "https://github.com/nilgunn ,nilgunn,\n",
      "https://github.com/jzes ,jzes,\n",
      "https://github.com/andersonfelixds ,andersonfelixds,\n",
      "https://github.com/coreilabs ,coreilabs,\n",
      "https://github.com/sat987 ,sat987,\n",
      "https://github.com/Browseverse ,Browseverse,\n",
      "https://github.com/Ceylo ,Ceylo,\n",
      "https://github.com/fejd ,fejd,\n",
      "https://github.com/ryan811 ,ryan811,\n",
      "https://github.com/Karolyna84 ,Karolyna84,\n",
      "https://github.com/Goergie ,Goergie,\n",
      "https://github.com/rhyspoulton ,rhyspoulton,\n",
      "https://github.com/IanBoyanZhang ,IanBoyanZhang,\n",
      "https://github.com/holoto ,holoto,\n",
      "https://github.com/thinline72 ,thinline72,\n",
      "https://github.com/ttxs69 ,ttxs69,\n",
      "https://github.com/loserXD ,loserXD,\n",
      "https://github.com/mardom ,mardom,\n",
      "https://github.com/mbrunogregorio ,mbrunogregorio,\n",
      "https://github.com/AddaxSoft ,AddaxSoft,\n",
      "https://github.com/DiSiqueira ,DiSiqueira,\n",
      "https://github.com/Wolfiri ,Wolfiri,\n",
      "https://github.com/leleobhz ,leleobhz,\n",
      "https://github.com/PatWalters ,PatWalters,\n",
      "https://github.com/lukejdavies ,lukejdavies,\n",
      "https://github.com/willmcgugan ,willmcgugan,\n",
      "https://github.com/fourkbomb ,fourkbomb,\n",
      "https://github.com/w-gc ,w-gc,\n",
      "https://github.com/EngineerEmily ,EngineerEmily,\n",
      "https://github.com/dwelcaslu ,dwelcaslu,\n",
      "https://github.com/andrewsmedina ,andrewsmedina,\n",
      "https://github.com/mikaelfrykholm ,mikaelfrykholm,\n",
      "https://github.com/swpw ,swpw,\n",
      "https://github.com/markhalonen ,markhalonen,\n",
      "https://github.com/billythejew456 ,billythejew456,\n",
      "https://github.com/gnmarten ,gnmarten,\n",
      "https://github.com/razaborg ,razaborg,\n",
      "https://github.com/derickbailey ,derickbailey,\n",
      "https://github.com/s0md3v ,s0md3v,\n",
      "https://github.com/bagucode ,bagucode,\n",
      "https://github.com/Weylew ,Weylew,\n",
      "https://github.com/DroppedHeart ,DroppedHeart,\n",
      "https://github.com/Harmonique ,Harmonique,\n",
      "https://github.com/skochinsky ,skochinsky,\n",
      "https://github.com/Nov05 ,Nov05,\n",
      "https://github.com/tanelpuhu ,tanelpuhu,\n",
      "https://github.com/apple-opensource ,apple-opensource,\n",
      "https://github.com/vdvcoder ,vdvcoder,\n",
      "https://github.com/nhejazi ,nhejazi,\n",
      "https://github.com/ashang ,ashang,\n",
      "https://github.com/insin ,insin,\n",
      "https://github.com/rnfinnegan ,rnfinnegan,\n",
      "https://github.com/marcosrjjunior ,marcosrjjunior,\n",
      "https://github.com/neoyoung ,neoyoung,\n",
      "https://github.com/jborg ,jborg,\n",
      "https://github.com/abhishekkrthakur ,abhishekkrthakur,\n",
      "https://github.com/monich ,monich,\n",
      "https://github.com/clente ,clente,\n",
      "https://github.com/ohpe ,ohpe,\n",
      "https://github.com/DanielNeris ,DanielNeris,\n",
      "https://github.com/dcarlus ,dcarlus,\n",
      "https://github.com/malpaslan ,malpaslan,\n",
      "https://github.com/sam7292 ,sam7292,\n",
      "https://github.com/rayabee ,rayabee,\n",
      "https://github.com/LuigiBruno ,LuigiBruno,\n",
      "https://github.com/pygaganthon ,pygaganthon,\n",
      "https://github.com/io12 ,io12,\n",
      "https://github.com/johnnypesola ,johnnypesola,\n",
      "https://github.com/plusreed ,plusreed,\n",
      "https://github.com/linusdan ,linusdan,\n",
      "https://github.com/revolunet ,revolunet,\n",
      "https://github.com/vincentpanqi ,vincentpanqi,\n",
      "https://github.com/JEddy92 ,JEddy92,\n",
      "https://github.com/fjajhsidh ,fjajhsidh,\n",
      "https://github.com/benataranburu ,benataranburu,\n",
      "https://github.com/ebeshero ,ebeshero,\n",
      "https://github.com/craftfortress ,craftfortress,\n",
      "https://github.com/enningxie ,enningxie,\n",
      "https://github.com/babakramak ,babakramak,\n",
      "https://github.com/dplanter ,dplanter,\n",
      "https://github.com/madv-rd ,madv-rd,\n",
      "https://github.com/marcusmartins ,marcusmartins,\n",
      "https://github.com/fr34k8 ,fr34k8,\n",
      "https://github.com/kamalkraj ,kamalkraj,\n",
      "https://github.com/alextpy ,alextpy,\n",
      "https://github.com/aseyedmehdi ,aseyedmehdi,\n",
      "https://github.com/Viewtiful ,Viewtiful,\n",
      "https://github.com/snakers4 ,snakers4,\n",
      "https://github.com/CarolinaMoraes ,CarolinaMoraes,\n",
      "https://github.com/rileytomasek ,rileytomasek,\n",
      "https://github.com/RICCIARDI-Adrien ,RICCIARDI-Adrien,\n",
      "https://github.com/SabineBellstedt ,SabineBellstedt,\n",
      "https://github.com/lisboaxd ,lisboaxd,\n",
      "https://github.com/Meoo ,Meoo,\n",
      "https://github.com/TDKPS ,TDKPS,\n",
      "https://github.com/Btibert3 ,Btibert3,\n",
      "https://github.com/hudsonpereira ,hudsonpereira,\n",
      "https://github.com/LendisFabri ,LendisFabri,\n",
      "https://github.com/mleise ,mleise,\n",
      "https://github.com/baiwyc119 ,baiwyc119,\n",
      "https://github.com/ustbgaofan ,ustbgaofan,\n",
      "https://github.com/mattrunchey ,mattrunchey,\n",
      "https://github.com/neitandias ,neitandias,\n",
      "https://github.com/Coestar ,Coestar,\n",
      "https://github.com/stduolc ,stduolc,\n",
      "https://github.com/taranu ,taranu,\n",
      "https://github.com/jensimmons ,jensimmons,\n",
      "https://github.com/abirnedia ,abirnedia,\n",
      "https://github.com/hakimel ,hakimel,\n",
      "https://github.com/rossmjr ,rossmjr,\n",
      "https://github.com/Akashnil ,Akashnil,\n",
      "https://github.com/asherf ,asherf,\n",
      "https://github.com/VIP21 ,VIP21,\n",
      "https://github.com/teddy-error ,teddy-error,\n",
      "https://github.com/damenleeturks ,damenleeturks,\n",
      "https://github.com/Cm0nsters ,Cm0nsters,\n",
      "https://github.com/FilhoSergio ,FilhoSergio,\n",
      "https://github.com/chriscoyier ,chriscoyier,\n",
      "https://github.com/olessyaz ,olessyaz,\n",
      "https://github.com/SparXFusion ,SparXFusion,\n",
      "https://github.com/Colkadome ,Colkadome,\n",
      "https://github.com/Duome ,Duome,\n",
      "https://github.com/vedovelli ,vedovelli,\n",
      "https://github.com/b1naryth1ef ,b1naryth1ef,\n"
     ]
    }
   ],
   "source": [
    "## #Read full list of usernames\n",
    "f=open(\"../data/users_final.txt\", \"r\")\n",
    "fl = f.readlines()\n",
    "\n",
    "usernames = []\n",
    "for f in fl:\n",
    "    usernames.append(f.rstrip())\n",
    "    #print(f.rstrip())\n",
    "#usernames = list(set(usernames) - set(success))\n",
    "#np.random.shuffle(usernames)\n",
    "for user in usernames:\n",
    "    print(\"https://github.com/{} ,{},\".format(user,user))"
   ]
  }
 ],
 "metadata": {
  "kernelspec": {
   "display_name": "Python 3",
   "language": "python",
   "name": "python3"
  },
  "language_info": {
   "codemirror_mode": {
    "name": "ipython",
    "version": 3
   },
   "file_extension": ".py",
   "mimetype": "text/x-python",
   "name": "python",
   "nbconvert_exporter": "python",
   "pygments_lexer": "ipython3",
   "version": "3.6.8"
  }
 },
 "nbformat": 4,
 "nbformat_minor": 2
}
